{
 "cells": [
  {
   "cell_type": "markdown",
   "id": "ec4115c7",
   "metadata": {},
   "source": [
    "Loops are instructions that repeat multiple times as long as a condition is met"
   ]
  },
  {
   "attachments": {
    "image.png": {
     "image/png": "[encoded data removed]"
    }
   },
   "cell_type": "markdown",
   "id": "8cfd1e44",
   "metadata": {},
   "source": [
    "![image.png](attachment:image.png)"
   ]
  },
  {
   "cell_type": "markdown",
   "id": "6984ca2f",
   "metadata": {},
   "source": [
    "Types of loops\n",
    "- while loop\n",
    "- do while loop\n",
    "- for loop"
   ]
  },
  {
   "cell_type": "markdown",
   "id": "b198a6a8",
   "metadata": {},
   "source": [
    "# WHILE LOOP"
   ]
  },
  {
   "cell_type": "markdown",
   "id": "f8d798ac",
   "metadata": {},
   "source": [
    "while loop is used to repeat a section of code an unknown number of times until a specific condition is met\n",
    "\n",
    "while loop syntax:\n",
    "\n",
    "    while(expression):\n",
    "        statements"
   ]
  },
  {
   "cell_type": "markdown",
   "id": "82ce9723",
   "metadata": {},
   "source": [
    "### WHILE LOOP DEMO"
   ]
  },
  {
   "cell_type": "code",
   "execution_count": 1,
   "id": "fbf35e15",
   "metadata": {},
   "outputs": [
    {
     "name": "stdout",
     "output_type": "stream",
     "text": [
      "Enter a value which is a multiple of 7 49\n",
      "49 is a multiple of 7\n"
     ]
    }
   ],
   "source": [
    "i=int(input('Enter a value which is a multiple of 7 '))\n",
    "while(i%7!=0):\n",
    "    i=int(input('Enter a value which is a multiple of 7 '))\n",
    "\n",
    "print('%d is a multiple of 7'%i)"
   ]
  },
  {
   "cell_type": "code",
   "execution_count": 2,
   "id": "8a3acfa5",
   "metadata": {},
   "outputs": [
    {
     "name": "stdout",
     "output_type": "stream",
     "text": [
      "0\n",
      "1\n",
      "2\n",
      "3\n",
      "4\n",
      "5\n",
      "6\n",
      "7\n",
      "8\n",
      "9\n"
     ]
    }
   ],
   "source": [
    "i=0\n",
    "while(i<10):\n",
    "    print(i)\n",
    "    i+=1"
   ]
  },
  {
   "cell_type": "code",
   "execution_count": 3,
   "id": "c6633e84",
   "metadata": {},
   "outputs": [
    {
     "name": "stdout",
     "output_type": "stream",
     "text": [
      "10\n",
      "9\n",
      "8\n",
      "7\n",
      "6\n",
      "5\n",
      "4\n",
      "3\n",
      "2\n",
      "1\n"
     ]
    }
   ],
   "source": [
    "i=10\n",
    "while(i>=1):\n",
    "    print(i)\n",
    "    i-=1"
   ]
  },
  {
   "cell_type": "code",
   "execution_count": 4,
   "id": "942bc6ef",
   "metadata": {},
   "outputs": [
    {
     "name": "stdout",
     "output_type": "stream",
     "text": [
      "55\n"
     ]
    }
   ],
   "source": [
    "i=10\n",
    "sum=0\n",
    "while(i>=1):\n",
    "    sum=sum+i\n",
    "    i-=1\n",
    "print(sum)"
   ]
  },
  {
   "cell_type": "code",
   "execution_count": 5,
   "id": "9f556bd9",
   "metadata": {},
   "outputs": [
    {
     "name": "stdout",
     "output_type": "stream",
     "text": [
      "30\n"
     ]
    }
   ],
   "source": [
    "i=10\n",
    "sum=0\n",
    "while(i>=1):\n",
    "    if(i%2==0):\n",
    "        sum=sum+i\n",
    "    i-=1\n",
    "print(sum)"
   ]
  },
  {
   "cell_type": "code",
   "execution_count": 6,
   "id": "84dd9ebd",
   "metadata": {},
   "outputs": [
    {
     "name": "stdout",
     "output_type": "stream",
     "text": [
      "Enter a number56\n",
      "65\n"
     ]
    }
   ],
   "source": [
    "# Reverse a number\n",
    "n = int(input('Enter a number'))\n",
    "reversedval = 0\n",
    "while n % 10 != 0:\n",
    "    c = n % 10\n",
    "    reversedval = (reversedval * 10) + c\n",
    "    n = n // 10\n",
    "print(reversedval)\n"
   ]
  },
  {
   "cell_type": "code",
   "execution_count": 7,
   "id": "96e1f433",
   "metadata": {},
   "outputs": [],
   "source": [
    "# Identifying number of elements in a list without using the len()"
   ]
  },
  {
   "cell_type": "code",
   "execution_count": 8,
   "id": "c2795cfa",
   "metadata": {},
   "outputs": [
    {
     "name": "stdout",
     "output_type": "stream",
     "text": [
      "4\n",
      "4\n"
     ]
    }
   ],
   "source": [
    "x=[1,2,3,4]\n",
    "len(x)\n",
    "num=0\n",
    "for item in x:\n",
    "    num+=1\n",
    "print(num)\n",
    "\n",
    "# OR\n",
    "num=0\n",
    "try:\n",
    "    while x[i]:\n",
    "        num+=1\n",
    "        i+=1\n",
    "except IndexError:\n",
    "    print(num)\n",
    "    "
   ]
  },
  {
   "cell_type": "code",
   "execution_count": 9,
   "id": "320c3d91",
   "metadata": {},
   "outputs": [
    {
     "name": "stdout",
     "output_type": "stream",
     "text": [
      "Enter a number5\n",
      "1 \n",
      "2 2 \n",
      "3 3 3 \n",
      "4 4 4 4 \n",
      "5 5 5 5 5 \n"
     ]
    }
   ],
   "source": [
    "# Patterns in while loop\n",
    "n = int(input('Enter a number'))\n",
    "i = 1\n",
    "while i <= n:\n",
    "    j = 1\n",
    "    while j <= i:\n",
    "        print(i, end=' ')\n",
    "        j+=1\n",
    "    i += 1\n",
    "    print()\n"
   ]
  },
  {
   "cell_type": "markdown",
   "id": "794f8f4f",
   "metadata": {},
   "source": [
    "## Guessing game"
   ]
  },
  {
   "cell_type": "code",
   "execution_count": 10,
   "id": "1993c600",
   "metadata": {},
   "outputs": [
    {
     "name": "stdout",
     "output_type": "stream",
     "text": [
      "Enter a 4 digit number5060\n",
      "0 digits were guessed right\n",
      "Enter a 4 digit number10\n",
      "You quit the game\n"
     ]
    }
   ],
   "source": [
    "import random\n",
    "\n",
    "nump = random.randint(1000,9999)\n",
    "n = int(input('Enter a 4 digit number'))\n",
    "\n",
    "while n != 10:\n",
    "    num = nump\n",
    "    cor = 0\n",
    "    while num % 10:\n",
    "        numc = num % 10\n",
    "        nc = n % 10\n",
    "        n=n // 10\n",
    "        num=num // 10\n",
    "        if numc == nc:\n",
    "            cor += 1\n",
    "            print(cor)\n",
    "    if cor == 4:\n",
    "        print('Correct guess')\n",
    "        break\n",
    "    else:\n",
    "        print('%d digits were guessed right' % cor)\n",
    "        n = int(input('Enter a 4 digit number'))\n",
    "else:\n",
    "    print('You quit the game')\n",
    "\n"
   ]
  },
  {
   "cell_type": "code",
   "execution_count": null,
   "id": "57acebf0",
   "metadata": {},
   "outputs": [],
   "source": []
  },
  {
   "cell_type": "code",
   "execution_count": null,
   "id": "2686cee4",
   "metadata": {},
   "outputs": [],
   "source": []
  },
  {
   "cell_type": "markdown",
   "id": "0957c3a2",
   "metadata": {},
   "source": [
    "# FOR LOOP"
   ]
  },
  {
   "cell_type": "markdown",
   "id": "a9f60964",
   "metadata": {},
   "source": [
    "for loop is used for iteration over sequences which could be lists, tuple,array or a string\n",
    "\n",
    "for loop syntax\n",
    "\n",
    "    for counter in sequence:\n",
    "        statements"
   ]
  },
  {
   "cell_type": "markdown",
   "id": "02130a2d",
   "metadata": {},
   "source": [
    "### FOR LOOP DEMO"
   ]
  },
  {
   "cell_type": "code",
   "execution_count": 11,
   "id": "61662f9f",
   "metadata": {},
   "outputs": [
    {
     "name": "stdout",
     "output_type": "stream",
     "text": [
      "1\n",
      "2\n",
      "Python\n"
     ]
    }
   ],
   "source": [
    "x=[1,2,'Python']\n",
    "for item in x:\n",
    "    print (item)"
   ]
  },
  {
   "cell_type": "code",
   "execution_count": 12,
   "id": "cec982e1",
   "metadata": {},
   "outputs": [
    {
     "name": "stdout",
     "output_type": "stream",
     "text": [
      "S\n",
      "i\n",
      "m\n",
      "p\n",
      "l\n",
      "i\n",
      "l\n",
      "e\n",
      "a\n",
      "r\n",
      "n\n"
     ]
    }
   ],
   "source": [
    "x='Simplilearn'\n",
    "for letter in x:\n",
    "    print(letter)"
   ]
  },
  {
   "cell_type": "code",
   "execution_count": 13,
   "id": "571840be",
   "metadata": {},
   "outputs": [],
   "source": [
    "# print even numbers in the range of 0 to 20"
   ]
  },
  {
   "cell_type": "code",
   "execution_count": 14,
   "id": "7c8ce22c",
   "metadata": {},
   "outputs": [
    {
     "name": "stdout",
     "output_type": "stream",
     "text": [
      "0\n",
      "2\n",
      "4\n",
      "6\n",
      "8\n",
      "10\n",
      "12\n",
      "14\n",
      "16\n",
      "18\n",
      "20\n"
     ]
    }
   ],
   "source": [
    "for i in range(0,21):\n",
    "    if i%2==0:\n",
    "        print(i)"
   ]
  },
  {
   "cell_type": "code",
   "execution_count": 15,
   "id": "5c51d2c6",
   "metadata": {},
   "outputs": [
    {
     "name": "stdout",
     "output_type": "stream",
     "text": [
      "0\n",
      "2\n",
      "4\n",
      "6\n",
      "8\n",
      "10\n",
      "12\n",
      "14\n",
      "16\n",
      "18\n",
      "20\n"
     ]
    }
   ],
   "source": [
    "for i in range(0,21,2):\n",
    "    print(i)"
   ]
  },
  {
   "cell_type": "code",
   "execution_count": 16,
   "id": "57760a15",
   "metadata": {},
   "outputs": [],
   "source": [
    "# print sum of even numbers in the range of 0 to 20"
   ]
  },
  {
   "cell_type": "code",
   "execution_count": 17,
   "id": "542b2935",
   "metadata": {},
   "outputs": [
    {
     "name": "stdout",
     "output_type": "stream",
     "text": [
      "110\n"
     ]
    }
   ],
   "source": [
    "sum=0\n",
    "for i in range(0,21):\n",
    "    if i%2==0:\n",
    "       sum+=i\n",
    "print(sum)"
   ]
  },
  {
   "cell_type": "code",
   "execution_count": 18,
   "id": "38880eea",
   "metadata": {},
   "outputs": [],
   "source": [
    "# print patterns"
   ]
  },
  {
   "cell_type": "code",
   "execution_count": 19,
   "id": "9cdff178",
   "metadata": {},
   "outputs": [
    {
     "name": "stdout",
     "output_type": "stream",
     "text": [
      "1 \n",
      "1 2 \n",
      "1 2 3 \n",
      "1 2 3 4 \n",
      "1 2 3 4 5 \n"
     ]
    }
   ],
   "source": [
    "for i in range(1,6):\n",
    "    for j in  range(1,i+1):\n",
    "        print('%d '%j, end=\"\")\n",
    "    print()"
   ]
  },
  {
   "cell_type": "code",
   "execution_count": 20,
   "id": "3d472e93",
   "metadata": {},
   "outputs": [
    {
     "name": "stdout",
     "output_type": "stream",
     "text": [
      "Enter an integer4\n",
      "1\n",
      "12\n",
      "123\n",
      "1234\n"
     ]
    }
   ],
   "source": [
    "n= int(input('Enter an integer'))\n",
    "for i in range(1,n+1):\n",
    "    for j in range(1,i+1):\n",
    "        print(j, end=\"\")\n",
    "    print()"
   ]
  },
  {
   "cell_type": "code",
   "execution_count": 21,
   "id": "55e3c646",
   "metadata": {},
   "outputs": [],
   "source": [
    "# Adding elements in a matrix"
   ]
  },
  {
   "cell_type": "code",
   "execution_count": 22,
   "id": "776d68df",
   "metadata": {},
   "outputs": [
    {
     "name": "stdout",
     "output_type": "stream",
     "text": [
      "Enter the number of rows4\n",
      "Enter the number of columns4\n",
      "Enter the element 0 01\n",
      "Enter the element 0 12\n",
      "Enter the element 0 23\n",
      "Enter the element 0 33\n",
      "Enter the element 1 04\n",
      "Enter the element 1 14\n",
      "Enter the element 1 25\n",
      "Enter the element 1 356\n",
      "Enter the element 2 05\n",
      "Enter the element 2 14\n",
      "Enter the element 2 24\n",
      "Enter the element 2 34\n",
      "Enter the element 3 04\n",
      "Enter the element 3 14\n",
      "Enter the element 3 24\n",
      "Enter the element 3 34\n",
      "[[1, 2, 3, 3], [4, 4, 5, 56], [5, 4, 4, 4], [4, 4, 4, 4]]\n"
     ]
    }
   ],
   "source": [
    "r=int(input('Enter the number of rows'))\n",
    "c=int(input('Enter the number of columns'))\n",
    "x=[]\n",
    "val=[]\n",
    "for i in range(0,r):\n",
    "    for j in range(0,c):\n",
    "        val.insert(j,int(input('Enter the element %d %d'%(i,j))))\n",
    "    x.insert(i,val)\n",
    "    val=[]\n",
    "print(x)"
   ]
  },
  {
   "cell_type": "code",
   "execution_count": 23,
   "id": "c2cfc23f",
   "metadata": {},
   "outputs": [],
   "source": [
    "# Sum of elements in a matrix"
   ]
  },
  {
   "cell_type": "code",
   "execution_count": 24,
   "id": "c416afc4",
   "metadata": {},
   "outputs": [
    {
     "name": "stdout",
     "output_type": "stream",
     "text": [
      "111\n"
     ]
    }
   ],
   "source": [
    "sum=0\n",
    "for i in x:\n",
    "    for v in i:\n",
    "      sum+=int(v)\n",
    "print (sum)\n",
    "    "
   ]
  },
  {
   "cell_type": "code",
   "execution_count": 25,
   "id": "f4d40d4b",
   "metadata": {},
   "outputs": [
    {
     "name": "stdout",
     "output_type": "stream",
     "text": [
      "Enter the number of rows2\n",
      "Enter the number of columns2\n",
      "Enter the element 0 01\n",
      "Enter the element 0 12\n",
      "Enter the element 1 03\n",
      "Enter the element 1 14\n",
      "[[1, 2], [3, 4]]\n",
      "Enter the element 0 01\n",
      "Enter the element 0 12\n",
      "Enter the element 1 03\n",
      "Enter the element 1 14\n",
      "[[1, 2], [3, 4]]\n",
      "[[2, 4], [6, 8]]\n"
     ]
    }
   ],
   "source": [
    "r=int(input('Enter the number of rows'))\n",
    "c=int(input('Enter the number of columns'))\n",
    "x=[]\n",
    "val=[]\n",
    "for i in range(0,r):\n",
    "    for j in range(0,c):\n",
    "        val.insert(j,int(input('Enter the element %d %d'%(i,j))))\n",
    "    x.insert(i,val)\n",
    "    val=[]\n",
    "print(x)\n",
    "y=[]\n",
    "for i in range(0,r):\n",
    "    for j in range(0,c):\n",
    "        val.insert(j,int(input('Enter the element %d %d'%(i,j))))\n",
    "    y.insert(i,val)\n",
    "    val=[]\n",
    "print(x)\n",
    "\n",
    "sum=[]\n",
    "for i in range(0,r):\n",
    "    for j in range(0,c):\n",
    "        val.insert(j,x[i][j]+y[i][j])\n",
    "    sum.insert(i,val)\n",
    "    val=[]\n",
    "print(sum)"
   ]
  },
  {
   "cell_type": "code",
   "execution_count": null,
   "id": "ea3d017c",
   "metadata": {},
   "outputs": [],
   "source": []
  },
  {
   "cell_type": "markdown",
   "id": "40c86510",
   "metadata": {},
   "source": [
    "# NESTED LOOPS"
   ]
  },
  {
   "cell_type": "markdown",
   "id": "eac067bf",
   "metadata": {},
   "source": [
    "It can occur in many formats:\n",
    "\n",
    "- for loop in a for loop\n",
    "- for loop in a while\n",
    "- while in while\n",
    "- while in a for"
   ]
  },
  {
   "cell_type": "markdown",
   "id": "21ab62c3",
   "metadata": {},
   "source": [
    "## Nested loops demo"
   ]
  },
  {
   "cell_type": "code",
   "execution_count": 26,
   "id": "62d0b274",
   "metadata": {},
   "outputs": [
    {
     "name": "stdout",
     "output_type": "stream",
     "text": [
      "123\n",
      "abc\n"
     ]
    }
   ],
   "source": [
    "x=[[1,2,3],['a','b','c']]\n",
    "for item in x:\n",
    "    for val in item:\n",
    "        print(val, end=\"\")\n",
    "#         end=\"\" is used to remove the endline in the print statement\n",
    "    print()"
   ]
  },
  {
   "cell_type": "markdown",
   "id": "5a4a37d9",
   "metadata": {},
   "source": [
    "## Loop control statements"
   ]
  },
  {
   "cell_type": "markdown",
   "id": "13bd0eab",
   "metadata": {},
   "source": [
    "- Break- Transfers control to the statement right after/outside(exits) the loop\n",
    "- Continue- skips an iteration/shifts the control back to the loop when a condition is true"
   ]
  },
  {
   "cell_type": "code",
   "execution_count": 27,
   "id": "bb491834",
   "metadata": {},
   "outputs": [
    {
     "name": "stdout",
     "output_type": "stream",
     "text": [
      "Hey there"
     ]
    }
   ],
   "source": [
    "x=\"Hey there. how are you\"\n",
    "for item in x:\n",
    "    if(item=='.'):\n",
    "        break\n",
    "    print(item, end=\"\") \n",
    "    "
   ]
  },
  {
   "cell_type": "code",
   "execution_count": 28,
   "id": "95a97196",
   "metadata": {},
   "outputs": [
    {
     "name": "stdout",
     "output_type": "stream",
     "text": [
      "1\n",
      "4\n",
      "6\n"
     ]
    }
   ],
   "source": [
    "for num in [1,13,56,4,6]:\n",
    "    if(num>10):\n",
    "        continue\n",
    "    else:\n",
    "        print(num)\n",
    "    "
   ]
  },
  {
   "cell_type": "markdown",
   "id": "1efb66ae",
   "metadata": {},
   "source": []
  }
 ],
 "metadata": {
  "kernelspec": {
   "display_name": "Python 3 (ipykernel)",
   "language": "python",
   "name": "python3"
  },
  "language_info": {
   "codemirror_mode": {
    "name": "ipython",
    "version": 3
   },
   "file_extension": ".py",
   "mimetype": "text/x-python",
   "name": "python",
   "nbconvert_exporter": "python",
   "pygments_lexer": "ipython3",
   "version": "3.9.12"
  }
 },
 "nbformat": 4,
 "nbformat_minor": 5
}
