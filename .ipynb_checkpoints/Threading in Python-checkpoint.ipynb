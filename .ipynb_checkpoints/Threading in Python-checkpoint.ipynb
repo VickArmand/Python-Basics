{
 "cells": [
  {
   "cell_type": "markdown",
   "id": "950a8267",
   "metadata": {},
   "source": [
    "A process is an executable instance of a computer program\n",
    "\n",
    "A thread is a sequence of instructions in a program that can be executed independently of the remaining program\n",
    "\n",
    "A thread exists within a process\n",
    "A process can have many threads\n",
    "\n",
    "Multithreading is a function of the CPU that permits multiple threads to run independently while sharing the same process resources. A thread is a conscience sequence of instructions that may run in the same parent process as other threads.\n",
    "\n",
    "Multithreading allows many parts of a program to run simultaneously. These parts are referred to as threads, and they are lightweight processes that are available within the process. As a result, multithreading increases CPU utilization through multitasking. In multithreading, a computer may execute and process multiple tasks simultaneously."
   ]
  },
  {
   "cell_type": "markdown",
   "id": "4e206706",
   "metadata": {},
   "source": [
    "## Examples of Multithreading\n",
    "\n",
    "Multiple threads run behind the scenes in most of the applications you use regularly. At any given time, you may have numerous tabs open in the system and every tab displaying different types of content. Many threads of execution are used to display animations, load content, play a video, etc.\n",
    "\n",
    "A word processor is another instance of a multithreaded program with which you are all familiar. Multiple threads are used to show the content, asynchronously check content's spelling and grammar, and generate a PDF version of content while typing. These are all happening simultaneously, with independent threads doing these tasks internally."
   ]
  },
  {
   "cell_type": "markdown",
   "id": "d0233437",
   "metadata": {},
   "source": [
    "## Benefits of Multithreading\n",
    "Various benefits of multithreading in the operating system are as follows:\n",
    "\n",
    "1. Responsiveness -\n",
    "Multithreading in an interactive application enables a program to continue running even if a section is blocked or executing a lengthy process, increasing user responsiveness.\n",
    "\n",
    "A server in a non-multithreading environment listens to a port for a request, processes the request, and then resumes listening for another request. Other users are made to wait unnecessarily because of the time it takes to execute a request. Instead, a better approach will be to pass the request to a worker thread while listening on a port.\n",
    "\n",
    "For instance, a multithreaded web browser permits the user interaction in one thread while a video is loading in another thread. As a result, instead of waiting for the entire web page to load, the user can continue viewing a section of a web page.\n",
    "\n",
    "2. Resource Sharing -\n",
    "Processes can only share the resources only via two techniques such as:\n",
    "\n",
    "Message Passing\n",
    "Shared Memory\n",
    "The programmer must explicitly structure such strategies. On the other hand, by default, threads share the memory and resources of the process they belong to.\n",
    "\n",
    "The advantage of sharing code and data is that it permits an app to execute multiple code threads in the same address space.\n",
    "\n",
    "3. Economy -\n",
    "Allocating memory and resources for process creation is an expensive procedure because it is a time and space-consuming task.\n",
    "\n",
    "Because threads share a memory with the process to which they belong, establishing and context switching threads is more cost-effective. In general, generating and managing processes takes far more time than threads.\n",
    "\n",
    "4. Scalability -\n",
    "The advantages of multi-programming become much more apparent in the case of multiprocessor architecture, when threads may execute in parallel on many processors. When there is just one thread, it is impossible to break the processes into smaller jobs performed by different processors.\n",
    "\n",
    "A single-threaded process could only run on one processor, despite the number of processors available. Multithreading on multiple CPU machines increases parallelism.\n",
    "\n",
    "5. Better Communication -\n",
    "Thread synchronization functions could be used to improve inter-process communication. Moreover, sharing huge amounts of data across multiple threads of execution inside the same address space provides extremely high-bandwidth, low-latency communication across various tasks within an application.\n",
    "\n",
    "6. Utilization of multiprocessor architecture -\n",
    "The advantages of multithreading might be considerably amplified in a multiprocessor architecture, where every thread could execute in parallel on a distinct processor.\n",
    "\n",
    "A single-threaded task could only run on one of them, no matter how many CPUs are available. On a multi-CPU machine, multithreading enhances concurrency.\n",
    "\n",
    "The CPU switches among threads so quickly in single-processor architecture that it creates the illusion of parallelism, but only one thread is running at a particular time.\n",
    "\n",
    "7. Minimized system resource usage -\n",
    "Threads have a minimal influence on the system's resources. The overhead of creating, maintaining, and managing threads is lower than a general process.\n",
    "\n",
    "## Disadvantages of Multithreading\n",
    "Here, you will learn the disadvantages of multithreading. There are various disadvantages of multithreading in the operating system, and some of the disadvantages are as follows:\n",
    "\n",
    "1. It needs more careful synchronization.\n",
    "2. It can consume a large space of stocks of blocked threads.\n",
    "3. It needs support for thread or process.\n",
    "4. If a parent process has several threads for proper process functioning, the child processes should also be multithreaded because they may be required.\n",
    "5. It imposes context switching overhead."
   ]
  },
  {
   "cell_type": "markdown",
   "id": "cc4407ba",
   "metadata": {},
   "source": [
    "Normal programs without created threads are executed in the parent thread\n",
    "\n",
    "To create a new thread, we create an object of Thread class. \n",
    "\n",
    "It takes following arguments:\n",
    "- target: the function to be executed by thread\n",
    "- args: the arguments to be passed to the target function\n",
    "\n",
    "To start a thread, we use start method of Thread class.\n",
    "\n",
    "Once the threads start, the current program (you can think of it like a main thread) also keeps on executing. In order to stop execution of current program until a thread is complete, we use join method.\n",
    "\n",
    "t1.join()\n",
    "\n",
    "t2.join()\n",
    "\n",
    "As a result, the current program will first wait for the completion of t1 and then t2. Once, they are finished, the remaining statements of current program are executed."
   ]
  },
  {
   "cell_type": "code",
   "execution_count": 6,
   "id": "d79e855b",
   "metadata": {},
   "outputs": [],
   "source": [
    "from threading import *"
   ]
  },
  {
   "cell_type": "code",
   "execution_count": 7,
   "id": "0642b51c",
   "metadata": {},
   "outputs": [],
   "source": [
    "def show():\n",
    "    print('Child thread')"
   ]
  },
  {
   "cell_type": "code",
   "execution_count": 12,
   "id": "7e7c8835",
   "metadata": {},
   "outputs": [
    {
     "name": "stdout",
     "output_type": "stream",
     "text": [
      "Child thread\n"
     ]
    }
   ],
   "source": [
    "t=Thread(target=show())#creating an instance of the Thread class\n",
    "t.start()#show method is executed on a separate thread compared to the print statement below"
   ]
  },
  {
   "cell_type": "code",
   "execution_count": 9,
   "id": "219e7ff7",
   "metadata": {},
   "outputs": [
    {
     "name": "stdout",
     "output_type": "stream",
     "text": [
      "Parent thread\n"
     ]
    }
   ],
   "source": [
    "print('Parent thread')"
   ]
  },
  {
   "cell_type": "markdown",
   "id": "e845bd70",
   "metadata": {},
   "source": [
    "## THREADING IN CLASSES"
   ]
  },
  {
   "cell_type": "code",
   "execution_count": 13,
   "id": "b6038b0f",
   "metadata": {},
   "outputs": [],
   "source": [
    "from threading import *"
   ]
  },
  {
   "cell_type": "code",
   "execution_count": 20,
   "id": "9ae5bf5d",
   "metadata": {},
   "outputs": [
    {
     "name": "stdout",
     "output_type": "stream",
     "text": [
      "Child classMain thread\n",
      "Main thread\n",
      "\n",
      "Child class\n",
      "Child class\n",
      "Child class\n",
      "Child class\n",
      "Main thread\n",
      "Main thread\n",
      "Main thread\n"
     ]
    }
   ],
   "source": [
    "class MyThread(Thread):#MyThread class extends imported Thread class\n",
    "    def run(self):\n",
    "        for i in range(5):\n",
    "            print('Child class')\n",
    "t=MyThread()#no need to pass the target because the run() will be executed by default\n",
    "t.start()\n",
    "for i in range(5):\n",
    "    print('Main thread')"
   ]
  },
  {
   "cell_type": "markdown",
   "id": "b451d057",
   "metadata": {},
   "source": [
    "ANOTHER WAY TO CREATE THREAD IN CLASSES"
   ]
  },
  {
   "cell_type": "code",
   "execution_count": 43,
   "id": "ad7d3564",
   "metadata": {},
   "outputs": [
    {
     "name": "stdout",
     "output_type": "stream",
     "text": [
      "Child threadParent thread\n",
      "Parent thread\n",
      "Parent thread\n",
      "Parent thread\n",
      "Parent thread\n",
      "\n",
      "Child thread\n",
      "Child thread\n",
      "Child thread\n",
      "Child thread\n"
     ]
    }
   ],
   "source": [
    "import threading\n",
    "class Demo:\n",
    "    def show(self):\n",
    "        for i in range(5):\n",
    "            print('Child thread')\n",
    "obj=Demo()\n",
    "t=threading.Thread(target=obj.show)\n",
    "t.start()\n",
    "for i in range(5):\n",
    "    print('Parent thread')"
   ]
  },
  {
   "cell_type": "markdown",
   "id": "f28b44f3",
   "metadata": {},
   "source": [
    "# Multithreading"
   ]
  },
  {
   "cell_type": "markdown",
   "id": "1dedafdf",
   "metadata": {},
   "source": [
    "It is a model where threads are executed independently while sharing the same resources"
   ]
  },
  {
   "cell_type": "code",
   "execution_count": 30,
   "id": "c831f08b",
   "metadata": {},
   "outputs": [],
   "source": [
    "from threading import *\n",
    "import time"
   ]
  },
  {
   "cell_type": "code",
   "execution_count": 46,
   "id": "894296d8",
   "metadata": {},
   "outputs": [
    {
     "name": "stdout",
     "output_type": "stream",
     "text": [
      "The number is  1\n",
      "The double is  2\n",
      "The square is  1\n",
      "The number is  2\n",
      "The double is  4\n",
      "The square is  4\n",
      "The number is  3\n",
      "The double is  6\n",
      "The square is  9\n",
      "The number is  4\n",
      "The double is  8\n",
      "The square is  16\n",
      "The number is  5\n",
      "The double is  10\n",
      "The square is  25\n"
     ]
    }
   ],
   "source": [
    "class Demo:\n",
    "    def num(self):\n",
    "        for i in range(1,6):\n",
    "            print('The number is ', i)\n",
    "            time.sleep(1)\n",
    "    def double(self):\n",
    "         for i in range(1,6):\n",
    "            print('The double is ', 2*i)\n",
    "            time.sleep(1)\n",
    "    def square(self):\n",
    "         for i in range(1,6):\n",
    "            print('The square is ', i*i)\n",
    "            time.sleep(1)\n",
    "obj=Demo()\n",
    "t1=Thread(target=obj.num)\n",
    "t2=Thread(target=obj.double)\n",
    "t3=Thread(target=obj.square)\n",
    "t1.start()\n",
    "time.sleep(0.2)\n",
    "t2.start()\n",
    "time.sleep(0.2)\n",
    "t3.start()\n",
    "t1.join()\n",
    "t2.join()\n",
    "t3.join()"
   ]
  },
  {
   "cell_type": "code",
   "execution_count": 44,
   "id": "5afab22f",
   "metadata": {},
   "outputs": [
    {
     "name": "stdout",
     "output_type": "stream",
     "text": [
      "Square: 100\n",
      "Cube: 1000\n",
      "Done!\n"
     ]
    }
   ],
   "source": [
    "# Python program to illustrate the concept\n",
    "# of threading\n",
    "# importing the threading module\n",
    "import threading\n",
    "\n",
    "\n",
    "def print_cube(num):\n",
    "\t# function to print cube of given num\n",
    "\tprint(\"Cube: {}\" .format(num * num * num))\n",
    "\n",
    "\n",
    "def print_square(num):\n",
    "\t# function to print square of given num\n",
    "\tprint(\"Square: {}\" .format(num * num))\n",
    "\n",
    "\n",
    "if __name__ ==\"__main__\":\n",
    "\t# creating thread\n",
    "\tt1 = threading.Thread(target=print_square, args=(10,))\n",
    "\tt2 = threading.Thread(target=print_cube, args=(10,))\n",
    "\n",
    "\t# starting thread 1\n",
    "\tt1.start()\n",
    "\t# starting thread 2\n",
    "\tt2.start()\n",
    "\n",
    "\t# wait until thread 1 is completely executed\n",
    "\tt1.join()\n",
    "\t# wait until thread 2 is completely executed\n",
    "\tt2.join()\n",
    "\n",
    "\t# both threads completely executed\n",
    "\tprint(\"Done!\")\n"
   ]
  },
  {
   "attachments": {
    "image.png": {
     "image/png": "[encoded data removed]"
    }
   },
   "cell_type": "markdown",
   "id": "f0ed7e91",
   "metadata": {},
   "source": [
    "![image.png](attachment:image.png)"
   ]
  },
  {
   "cell_type": "code",
   "execution_count": 45,
   "id": "c0023d00",
   "metadata": {},
   "outputs": [
    {
     "name": "stdout",
     "output_type": "stream",
     "text": [
      "ID of process running main program: 240\n",
      "Main thread name: MainThread\n",
      "Task 1 assigned to thread: t1Task 2 assigned to thread: t2\n",
      "\n",
      "ID of process running task 1: 240\n",
      "ID of process running task 2: 240\n"
     ]
    }
   ],
   "source": [
    "# Python program to illustrate the concept\n",
    "# of threading\n",
    "import threading\n",
    "import os\n",
    "\n",
    "def task1():\n",
    "\tprint(\"Task 1 assigned to thread: {}\".format(threading.current_thread().name))\n",
    "\tprint(\"ID of process running task 1: {}\".format(os.getpid()))\n",
    "\n",
    "def task2():\n",
    "\tprint(\"Task 2 assigned to thread: {}\".format(threading.current_thread().name))\n",
    "\tprint(\"ID of process running task 2: {}\".format(os.getpid()))\n",
    "\n",
    "if __name__ == \"__main__\":\n",
    "\n",
    "\t# print ID of current process\n",
    "\tprint(\"ID of process running main program: {}\".format(os.getpid()))\n",
    "\n",
    "\t# print name of main thread\n",
    "\tprint(\"Main thread name: {}\".format(threading.current_thread().name))\n",
    "\n",
    "\t# creating threads\n",
    "\tt1 = threading.Thread(target=task1, name='t1')\n",
    "\tt2 = threading.Thread(target=task2, name='t2')\n",
    "\n",
    "\t# starting threads\n",
    "\tt1.start()\n",
    "\tt2.start()\n",
    "\n",
    "\t# wait until all threads finish\n",
    "\tt1.join()\n",
    "\tt2.join()\n"
   ]
  },
  {
   "cell_type": "markdown",
   "id": "636c44c4",
   "metadata": {},
   "source": [
    "### Let us try to understand the above code:\n",
    "\n",
    "We use os.getpid() function to get ID of current process.\n",
    "\n",
    "print(\"ID of process running main program: {}\".format(os.getpid()))\n",
    "\n",
    "As it is clear from the output, the process ID remains the same for all threads.\n",
    "\n",
    "We use threading.main_thread() function to get the main thread object. In normal conditions, the main thread is the thread from which the Python interpreter was started. name attribute of thread object is used to get the name of thread.\n",
    "\n",
    "print(\"Main thread name: {}\".format(threading.main_thread().name))\n",
    "\n",
    "We use the threading.current_thread() function to get the current thread object.\n",
    "\n",
    "print(\"Task 1 assigned to thread: {}\".format(threading.current_thread()."
   ]
  },
  {
   "cell_type": "code",
   "execution_count": 47,
   "id": "ec5721a2",
   "metadata": {},
   "outputs": [
    {
     "data": {
      "text/plain": [
       "2"
      ]
     },
     "execution_count": 47,
     "metadata": {},
     "output_type": "execute_result"
    }
   ],
   "source": [
    "50//20"
   ]
  },
  {
   "cell_type": "code",
   "execution_count": 54,
   "id": "d0412e06",
   "metadata": {},
   "outputs": [
    {
     "data": {
      "text/plain": [
       "True"
      ]
     },
     "execution_count": 54,
     "metadata": {},
     "output_type": "execute_result"
    }
   ],
   "source": [
    "bool(5%10)"
   ]
  },
  {
   "cell_type": "code",
   "execution_count": 49,
   "id": "de5016ef",
   "metadata": {},
   "outputs": [
    {
     "data": {
      "text/plain": [
       "5"
      ]
     },
     "execution_count": 49,
     "metadata": {},
     "output_type": "execute_result"
    }
   ],
   "source": [
    "5%10"
   ]
  },
  {
   "cell_type": "code",
   "execution_count": null,
   "id": "9d3ba1fd",
   "metadata": {},
   "outputs": [],
   "source": [
    "import random\n",
    "\n",
    "nump = random.randint(1000,9999)\n",
    "n = int(input('Enter a 4 digit number'))\n",
    "\n",
    "while n != 10:\n",
    "    num = nump\n",
    "    cor = 0\n",
    "    while num % 10:\n",
    "        numc = num % 10\n",
    "        nc = n % 10\n",
    "        n // 10\n",
    "        num // 10\n",
    "        if numc == nc:\n",
    "            cor += 1\n",
    "            print(cor)\n",
    "    if cor == 4:\n",
    "        print('Correct guess')\n",
    "        break\n",
    "    else:\n",
    "        print('%d digits were guessed right' % cor)\n",
    "        n = int(input('Enter a 4 digit number'))\n",
    "else:\n",
    "    print('You quit the game')\n"
   ]
  },
  {
   "cell_type": "code",
   "execution_count": null,
   "id": "2b459d3f",
   "metadata": {},
   "outputs": [],
   "source": []
  }
 ],
 "metadata": {
  "kernelspec": {
   "display_name": "Python 3 (ipykernel)",
   "language": "python",
   "name": "python3"
  },
  "language_info": {
   "codemirror_mode": {
    "name": "ipython",
    "version": 3
   },
   "file_extension": ".py",
   "mimetype": "text/x-python",
   "name": "python",
   "nbconvert_exporter": "python",
   "pygments_lexer": "ipython3",
   "version": "3.9.12"
  }
 },
 "nbformat": 4,
 "nbformat_minor": 5
}
