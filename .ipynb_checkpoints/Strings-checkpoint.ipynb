{
 "cells": [
  {
   "cell_type": "code",
   "execution_count": 4,
   "id": "9928098e",
   "metadata": {},
   "outputs": [
    {
     "data": {
      "text/plain": [
       "\"Hello i'm joe\""
      ]
     },
     "execution_count": 4,
     "metadata": {},
     "output_type": "execute_result"
    }
   ],
   "source": [
    "str='Hello i\\'m joe'\n",
    "str"
   ]
  },
  {
   "cell_type": "code",
   "execution_count": 5,
   "id": "5e1ff5c6",
   "metadata": {},
   "outputs": [
    {
     "data": {
      "text/plain": [
       "'hello im \\nbillie joe\\narmstrong'"
      ]
     },
     "execution_count": 5,
     "metadata": {},
     "output_type": "execute_result"
    }
   ],
   "source": [
    "str='''hello im \n",
    "billie joe\n",
    "armstrong'''\n",
    "str"
   ]
  },
  {
   "cell_type": "code",
   "execution_count": 6,
   "id": "723ab093",
   "metadata": {},
   "outputs": [
    {
     "data": {
      "text/plain": [
       "30"
      ]
     },
     "execution_count": 6,
     "metadata": {},
     "output_type": "execute_result"
    }
   ],
   "source": [
    "len(str)"
   ]
  },
  {
   "cell_type": "code",
   "execution_count": 8,
   "id": "6d3bfb13",
   "metadata": {},
   "outputs": [
    {
     "data": {
      "text/plain": [
       "'b'"
      ]
     },
     "execution_count": 8,
     "metadata": {},
     "output_type": "execute_result"
    }
   ],
   "source": [
    "str[10]"
   ]
  },
  {
   "cell_type": "code",
   "execution_count": 9,
   "id": "39af7c27",
   "metadata": {},
   "outputs": [
    {
     "name": "stdout",
     "output_type": "stream",
     "text": [
      "h\n",
      "e\n",
      "l\n",
      "l\n",
      "o\n",
      " \n",
      "i\n",
      "m\n",
      " \n",
      "\n",
      "\n",
      "b\n",
      "i\n",
      "l\n",
      "l\n",
      "i\n",
      "e\n",
      " \n",
      "j\n",
      "o\n",
      "e\n",
      "\n",
      "\n",
      "a\n",
      "r\n",
      "m\n",
      "s\n",
      "t\n",
      "r\n",
      "o\n",
      "n\n",
      "g\n"
     ]
    }
   ],
   "source": [
    "for x in str:\n",
    "    print(x)"
   ]
  },
  {
   "cell_type": "code",
   "execution_count": 10,
   "id": "8124e2ce",
   "metadata": {},
   "outputs": [
    {
     "data": {
      "text/plain": [
       "'hello'"
      ]
     },
     "execution_count": 10,
     "metadata": {},
     "output_type": "execute_result"
    }
   ],
   "source": [
    "str[:5]"
   ]
  },
  {
   "cell_type": "code",
   "execution_count": 11,
   "id": "76d58445",
   "metadata": {},
   "outputs": [
    {
     "data": {
      "text/plain": [
       "' im \\nbillie joe\\narmstrong'"
      ]
     },
     "execution_count": 11,
     "metadata": {},
     "output_type": "execute_result"
    }
   ],
   "source": [
    "str[5:]"
   ]
  },
  {
   "cell_type": "code",
   "execution_count": 12,
   "id": "ce502886",
   "metadata": {},
   "outputs": [
    {
     "data": {
      "text/plain": [
       "'HELLO IM \\nBILLIE JOE\\nARMSTRONG'"
      ]
     },
     "execution_count": 12,
     "metadata": {},
     "output_type": "execute_result"
    }
   ],
   "source": [
    "str.upper()"
   ]
  },
  {
   "cell_type": "code",
   "execution_count": 13,
   "id": "d404d149",
   "metadata": {},
   "outputs": [
    {
     "data": {
      "text/plain": [
       "'hello im \\nbillie joe\\narmstrong'"
      ]
     },
     "execution_count": 13,
     "metadata": {},
     "output_type": "execute_result"
    }
   ],
   "source": [
    "str.lower()"
   ]
  },
  {
   "cell_type": "code",
   "execution_count": 17,
   "id": "1c65e976",
   "metadata": {},
   "outputs": [
    {
     "data": {
      "text/plain": [
       "10"
      ]
     },
     "execution_count": 17,
     "metadata": {},
     "output_type": "execute_result"
    }
   ],
   "source": [
    "str.find('billie')\n",
    "# find() and index() returns the position of a specific character"
   ]
  },
  {
   "cell_type": "code",
   "execution_count": 18,
   "id": "b26698ec",
   "metadata": {},
   "outputs": [
    {
     "data": {
      "text/plain": [
       "24"
      ]
     },
     "execution_count": 18,
     "metadata": {},
     "output_type": "execute_result"
    }
   ],
   "source": [
    "str.index('s')"
   ]
  },
  {
   "cell_type": "code",
   "execution_count": 21,
   "id": "b6787d12",
   "metadata": {},
   "outputs": [
    {
     "data": {
      "text/plain": [
       "['hello', 'im', '\\nbillie', 'joe\\narmstrong']"
      ]
     },
     "execution_count": 21,
     "metadata": {},
     "output_type": "execute_result"
    }
   ],
   "source": [
    "str.split(\" \")\n",
    "# splits a string into a list."
   ]
  },
  {
   "cell_type": "code",
   "execution_count": 23,
   "id": "243a9890",
   "metadata": {},
   "outputs": [
    {
     "data": {
      "text/plain": [
       "'hey im \\nbillie joe\\narmstrong'"
      ]
     },
     "execution_count": 23,
     "metadata": {},
     "output_type": "execute_result"
    }
   ],
   "source": [
    "str.replace('hello','hey')\n",
    "# first parameter is word to be replaced and the second is the word to be replaced with"
   ]
  },
  {
   "cell_type": "code",
   "execution_count": 25,
   "id": "0c0eabd0",
   "metadata": {},
   "outputs": [
    {
     "data": {
      "text/plain": [
       "('hello im \\n', 'billie', ' joe\\narmstrong')"
      ]
     },
     "execution_count": 25,
     "metadata": {},
     "output_type": "execute_result"
    }
   ],
   "source": [
    "str.rpartition(\"billie\")\n",
    "# The rpartition() method searches for the last occurrence of a specified string, and splits the string into a tuple containing three elements.\n",
    "# The first element contains the part before the specified string.\n",
    "# The second element contains the specified string.\n",
    "# The third element contains the part after the string."
   ]
  },
  {
   "cell_type": "code",
   "execution_count": 30,
   "id": "a89ba949",
   "metadata": {},
   "outputs": [
    {
     "data": {
      "text/plain": [
       "'good morning'"
      ]
     },
     "execution_count": 30,
     "metadata": {},
     "output_type": "execute_result"
    }
   ],
   "source": [
    "str1=\"good\"\n",
    "str2=\"morning\"\n",
    "str3=\"pooka\"\n",
    "str=str1+\" \"+str2\n",
    "str"
   ]
  },
  {
   "cell_type": "code",
   "execution_count": 34,
   "id": "c3f50068",
   "metadata": {},
   "outputs": [
    {
     "data": {
      "text/plain": [
       "'good morning pooka!'"
      ]
     },
     "execution_count": 34,
     "metadata": {},
     "output_type": "execute_result"
    }
   ],
   "source": [
    "str=\"{} {} {}!\". format(str1,str2,str3)\n",
    "str"
   ]
  },
  {
   "cell_type": "markdown",
   "id": "45e372f5",
   "metadata": {},
   "source": [
    "# Python f-strings"
   ]
  },
  {
   "cell_type": "code",
   "execution_count": 35,
   "id": "d3064e0d",
   "metadata": {},
   "outputs": [
    {
     "name": "stdout",
     "output_type": "stream",
     "text": [
      "GeeksforGeeks is a portal for Geeks.\n"
     ]
    }
   ],
   "source": [
    "val = 'Geeks'\n",
    "print(f\"{val}for{val} is a portal for {val}.\")\n",
    " "
   ]
  },
  {
   "cell_type": "code",
   "execution_count": null,
   "id": "a1c06a41",
   "metadata": {},
   "outputs": [],
   "source": []
  }
 ],
 "metadata": {
  "kernelspec": {
   "display_name": "Python 3 (ipykernel)",
   "language": "python",
   "name": "python3"
  },
  "language_info": {
   "codemirror_mode": {
    "name": "ipython",
    "version": 3
   },
   "file_extension": ".py",
   "mimetype": "text/x-python",
   "name": "python",
   "nbconvert_exporter": "python",
   "pygments_lexer": "ipython3",
   "version": "3.9.12"
  }
 },
 "nbformat": 4,
 "nbformat_minor": 5
}
