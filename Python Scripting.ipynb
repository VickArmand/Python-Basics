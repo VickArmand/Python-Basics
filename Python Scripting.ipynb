{
 "cells": [
  {
   "cell_type": "code",
   "execution_count": 1,
   "id": "3ae03ec9",
   "metadata": {},
   "outputs": [],
   "source": [
    "import os"
   ]
  },
  {
   "cell_type": "code",
   "execution_count": 2,
   "id": "a0714dcd",
   "metadata": {},
   "outputs": [
    {
     "data": {
      "text/plain": [
       "'C:\\\\Users\\\\VICKFURY\\\\Documents\\\\projects\\\\Python Scripts\\\\Python Basics'"
      ]
     },
     "execution_count": 2,
     "metadata": {},
     "output_type": "execute_result"
    }
   ],
   "source": [
    "def currentDirectory():\n",
    "    cwd=os.getcwd()#get current working directory\n",
    "    return cwd\n",
    "currentDirectory()"
   ]
  },
  {
   "cell_type": "code",
   "execution_count": 3,
   "id": "fecea32d",
   "metadata": {},
   "outputs": [
    {
     "data": {
      "text/plain": [
       "'C:\\\\Users\\\\VICKFURY\\\\Documents\\\\projects\\\\Python Scripts\\\\Python Basics\\\\sample.txt'"
      ]
     },
     "execution_count": 3,
     "metadata": {},
     "output_type": "execute_result"
    }
   ],
   "source": [
    "def file_path(pathname):\n",
    "    path=os.path.abspath(pathname)\n",
    "    return path\n",
    "pathname='sample.txt'\n",
    "file_path(pathname)"
   ]
  },
  {
   "cell_type": "code",
   "execution_count": 4,
   "id": "7bb33fd3",
   "metadata": {},
   "outputs": [
    {
     "data": {
      "text/plain": [
       "1660949078.7836416"
      ]
     },
     "execution_count": 4,
     "metadata": {},
     "output_type": "execute_result"
    }
   ],
   "source": [
    "import time\n",
    "epc=time.time()\n",
    "epc #number of seconds since 1970"
   ]
  },
  {
   "cell_type": "code",
   "execution_count": 5,
   "id": "af77bb0c",
   "metadata": {},
   "outputs": [],
   "source": [
    "timestruct=time.localtime(epc)#converting to local time"
   ]
  },
  {
   "cell_type": "code",
   "execution_count": 6,
   "id": "b5ad6f35",
   "metadata": {},
   "outputs": [
    {
     "data": {
      "text/plain": [
       "2022"
      ]
     },
     "execution_count": 6,
     "metadata": {},
     "output_type": "execute_result"
    }
   ],
   "source": [
    "#extract year\n",
    "timestruct.tm_year"
   ]
  },
  {
   "cell_type": "code",
   "execution_count": 7,
   "id": "cc7879f1",
   "metadata": {},
   "outputs": [
    {
     "data": {
      "text/plain": [
       "20"
      ]
     },
     "execution_count": 7,
     "metadata": {},
     "output_type": "execute_result"
    }
   ],
   "source": [
    "#extract date\n",
    "timestruct.tm_mday"
   ]
  },
  {
   "cell_type": "code",
   "execution_count": 8,
   "id": "980ab71b",
   "metadata": {},
   "outputs": [
    {
     "data": {
      "text/plain": [
       "'Sat Aug 20 01:44:38 2022'"
      ]
     },
     "execution_count": 8,
     "metadata": {},
     "output_type": "execute_result"
    }
   ],
   "source": [
    "time.ctime(epc)"
   ]
  },
  {
   "cell_type": "markdown",
   "id": "452ef12f",
   "metadata": {},
   "source": [
    "SMTP Module"
   ]
  },
  {
   "cell_type": "code",
   "execution_count": 9,
   "id": "1b872651",
   "metadata": {},
   "outputs": [
    {
     "name": "stdout",
     "output_type": "stream",
     "text": [
      "File created\n"
     ]
    }
   ],
   "source": [
    "from os import path\n",
    "def createFile(dest):\n",
    "    if not (path.isfile(dest)):\n",
    "        f=open(dest, 'w')\n",
    "        f.write('Hello there')\n",
    "        \n",
    "dest='C:\\\\Users\\\\VICKFURY\\\\Documents\\\\projects\\\\Python Scripts\\\\Python Basics\\\\sample.txt'\n",
    "createFile(dest)\n",
    "print('File created')"
   ]
  },
  {
   "cell_type": "code",
   "execution_count": 29,
   "id": "22e4e029",
   "metadata": {},
   "outputs": [],
   "source": [
    "import smtplib"
   ]
  },
  {
   "cell_type": "code",
   "execution_count": 34,
   "id": "d41f7784",
   "metadata": {},
   "outputs": [
    {
     "data": {
      "text/plain": [
       "<smtplib.SMTP_SSL at 0x1da08079490>"
      ]
     },
     "execution_count": 34,
     "metadata": {},
     "output_type": "execute_result"
    }
   ],
   "source": [
    "# smtpobj=smtplib.SMTP('smtp.gmail.com',587)#arguments include domain name, port number\n",
    "smtplib.SMTP_SSL('smtp.googlemail.com', 465)\n"
   ]
  },
  {
   "cell_type": "code",
   "execution_count": 35,
   "id": "38a9ef69",
   "metadata": {},
   "outputs": [
    {
     "data": {
      "text/plain": [
       "(250,\n",
       " b'smtp.gmail.com at your service, [41.81.62.102]\\nSIZE 35882577\\n8BITMIME\\nAUTH LOGIN PLAIN XOAUTH2 PLAIN-CLIENTTOKEN OAUTHBEARER XOAUTH\\nENHANCEDSTATUSCODES\\nPIPELINING\\nCHUNKING\\nSMTPUTF8')"
      ]
     },
     "execution_count": 35,
     "metadata": {},
     "output_type": "execute_result"
    }
   ],
   "source": [
    "smtpobj.ehlo()"
   ]
  },
  {
   "cell_type": "code",
   "execution_count": 33,
   "id": "6e4dee7f",
   "metadata": {},
   "outputs": [
    {
     "data": {
      "text/plain": [
       "(220, b'2.0.0 Ready to start TLS')"
      ]
     },
     "execution_count": 33,
     "metadata": {},
     "output_type": "execute_result"
    }
   ],
   "source": [
    "smtpobj.starttls()"
   ]
  },
  {
   "cell_type": "code",
   "execution_count": 38,
   "id": "fd72534f",
   "metadata": {},
   "outputs": [
    {
     "ename": "SMTPAuthenticationError",
     "evalue": "(534, b'5.7.9 Application-specific password required. Learn more at\\n5.7.9  https://support.google.com/mail/?p=InvalidSecondFactor o12-20020a05600c4fcc00b003a5f2cc2f1dsm10312614wmq.42 - gsmtp')",
     "output_type": "error",
     "traceback": [
      "\u001b[1;31m---------------------------------------------------------------------------\u001b[0m",
      "\u001b[1;31mSMTPAuthenticationError\u001b[0m                   Traceback (most recent call last)",
      "Input \u001b[1;32mIn [38]\u001b[0m, in \u001b[0;36m<cell line: 3>\u001b[1;34m()\u001b[0m\n\u001b[0;32m      1\u001b[0m pwd\u001b[38;5;241m=\u001b[39m\u001b[38;5;124m'\u001b[39m\u001b[38;5;124mventrobooze\u001b[39m\u001b[38;5;124m'\u001b[39m\n\u001b[0;32m      2\u001b[0m addr\u001b[38;5;241m=\u001b[39m\u001b[38;5;124m'\u001b[39m\u001b[38;5;124mvictormaina1962@gmail.com\u001b[39m\u001b[38;5;124m'\u001b[39m\n\u001b[1;32m----> 3\u001b[0m \u001b[43msmtpobj\u001b[49m\u001b[38;5;241;43m.\u001b[39;49m\u001b[43mlogin\u001b[49m\u001b[43m(\u001b[49m\u001b[43maddr\u001b[49m\u001b[43m,\u001b[49m\u001b[43mpwd\u001b[49m\u001b[43m)\u001b[49m\n",
      "File \u001b[1;32m~\\anaconda3\\lib\\smtplib.py:750\u001b[0m, in \u001b[0;36mSMTP.login\u001b[1;34m(self, user, password, initial_response_ok)\u001b[0m\n\u001b[0;32m    747\u001b[0m         last_exception \u001b[38;5;241m=\u001b[39m e\n\u001b[0;32m    749\u001b[0m \u001b[38;5;66;03m# We could not login successfully.  Return result of last attempt.\u001b[39;00m\n\u001b[1;32m--> 750\u001b[0m \u001b[38;5;28;01mraise\u001b[39;00m last_exception\n",
      "File \u001b[1;32m~\\anaconda3\\lib\\smtplib.py:739\u001b[0m, in \u001b[0;36mSMTP.login\u001b[1;34m(self, user, password, initial_response_ok)\u001b[0m\n\u001b[0;32m    737\u001b[0m method_name \u001b[38;5;241m=\u001b[39m \u001b[38;5;124m'\u001b[39m\u001b[38;5;124mauth_\u001b[39m\u001b[38;5;124m'\u001b[39m \u001b[38;5;241m+\u001b[39m authmethod\u001b[38;5;241m.\u001b[39mlower()\u001b[38;5;241m.\u001b[39mreplace(\u001b[38;5;124m'\u001b[39m\u001b[38;5;124m-\u001b[39m\u001b[38;5;124m'\u001b[39m, \u001b[38;5;124m'\u001b[39m\u001b[38;5;124m_\u001b[39m\u001b[38;5;124m'\u001b[39m)\n\u001b[0;32m    738\u001b[0m \u001b[38;5;28;01mtry\u001b[39;00m:\n\u001b[1;32m--> 739\u001b[0m     (code, resp) \u001b[38;5;241m=\u001b[39m \u001b[38;5;28;43mself\u001b[39;49m\u001b[38;5;241;43m.\u001b[39;49m\u001b[43mauth\u001b[49m\u001b[43m(\u001b[49m\n\u001b[0;32m    740\u001b[0m \u001b[43m        \u001b[49m\u001b[43mauthmethod\u001b[49m\u001b[43m,\u001b[49m\u001b[43m \u001b[49m\u001b[38;5;28;43mgetattr\u001b[39;49m\u001b[43m(\u001b[49m\u001b[38;5;28;43mself\u001b[39;49m\u001b[43m,\u001b[49m\u001b[43m \u001b[49m\u001b[43mmethod_name\u001b[49m\u001b[43m)\u001b[49m\u001b[43m,\u001b[49m\n\u001b[0;32m    741\u001b[0m \u001b[43m        \u001b[49m\u001b[43minitial_response_ok\u001b[49m\u001b[38;5;241;43m=\u001b[39;49m\u001b[43minitial_response_ok\u001b[49m\u001b[43m)\u001b[49m\n\u001b[0;32m    742\u001b[0m     \u001b[38;5;66;03m# 235 == 'Authentication successful'\u001b[39;00m\n\u001b[0;32m    743\u001b[0m     \u001b[38;5;66;03m# 503 == 'Error: already authenticated'\u001b[39;00m\n\u001b[0;32m    744\u001b[0m     \u001b[38;5;28;01mif\u001b[39;00m code \u001b[38;5;129;01min\u001b[39;00m (\u001b[38;5;241m235\u001b[39m, \u001b[38;5;241m503\u001b[39m):\n",
      "File \u001b[1;32m~\\anaconda3\\lib\\smtplib.py:662\u001b[0m, in \u001b[0;36mSMTP.auth\u001b[1;34m(self, mechanism, authobject, initial_response_ok)\u001b[0m\n\u001b[0;32m    660\u001b[0m \u001b[38;5;28;01mif\u001b[39;00m code \u001b[38;5;129;01min\u001b[39;00m (\u001b[38;5;241m235\u001b[39m, \u001b[38;5;241m503\u001b[39m):\n\u001b[0;32m    661\u001b[0m     \u001b[38;5;28;01mreturn\u001b[39;00m (code, resp)\n\u001b[1;32m--> 662\u001b[0m \u001b[38;5;28;01mraise\u001b[39;00m SMTPAuthenticationError(code, resp)\n",
      "\u001b[1;31mSMTPAuthenticationError\u001b[0m: (534, b'5.7.9 Application-specific password required. Learn more at\\n5.7.9  https://support.google.com/mail/?p=InvalidSecondFactor o12-20020a05600c4fcc00b003a5f2cc2f1dsm10312614wmq.42 - gsmtp')"
     ]
    }
   ],
   "source": [
    "pwd='ventrobooze'\n",
    "addr='victormaina1962@gmail.com'\n",
    "smtpobj.login(addr,pwd)"
   ]
  },
  {
   "cell_type": "code",
   "execution_count": null,
   "id": "00989763",
   "metadata": {},
   "outputs": [],
   "source": [
    "smtpobj.sendmail('victormaina1962@gmail.com','mugechivictor@students.must.ac.ke','Subject: SMTP Check \\n This is a test email ')"
   ]
  },
  {
   "cell_type": "code",
   "execution_count": null,
   "id": "fa5545a4",
   "metadata": {},
   "outputs": [],
   "source": [
    "smtpobj.quit()"
   ]
  },
  {
   "cell_type": "code",
   "execution_count": null,
   "id": "bebc64ca",
   "metadata": {},
   "outputs": [],
   "source": [
    "def func1(*args):\n",
    "    for i in args:\n",
    "        print (i)\n",
    "func1(10,20,30,'hey')"
   ]
  },
  {
   "cell_type": "code",
   "execution_count": 43,
   "id": "324f801c",
   "metadata": {},
   "outputs": [
    {
     "name": "stdout",
     "output_type": "stream",
     "text": [
      "('a', 10)\n",
      "('b', 20)\n",
      "('c', 30)\n"
     ]
    }
   ],
   "source": [
    "def func1(*args,**kwargs):\n",
    "    for i in kwargs.items():\n",
    "        print (i)\n",
    "func1(a=10,b=20,c=30)"
   ]
  },
  {
   "cell_type": "markdown",
   "id": "61cd8d66",
   "metadata": {},
   "source": [
    "NESTED FUNCTIONS"
   ]
  },
  {
   "cell_type": "code",
   "execution_count": 48,
   "id": "f9275cf2",
   "metadata": {},
   "outputs": [
    {
     "name": "stdout",
     "output_type": "stream",
     "text": [
      "11\n"
     ]
    }
   ],
   "source": [
    "def func1():\n",
    "    x=10\n",
    "    def func2(x):\n",
    "        return x+1\n",
    "    return func2(x)\n",
    "print(func1())"
   ]
  },
  {
   "cell_type": "markdown",
   "id": "f0a2d2d6",
   "metadata": {},
   "source": [
    "PASSING FUNCTIONS AS OBJECTS"
   ]
  },
  {
   "cell_type": "code",
   "execution_count": 59,
   "id": "69b80f9f",
   "metadata": {},
   "outputs": [
    {
     "name": "stdout",
     "output_type": "stream",
     "text": [
      "This is the first function\n",
      "This is the nested function\n",
      "This is the outer function\n"
     ]
    }
   ],
   "source": [
    "def func1(called_func):\n",
    "    print('This is the first function')\n",
    "    def nested_func1(called_func):\n",
    "        print('This is the nested function')\n",
    "        called_func()\n",
    "    return nested_func1(called_func)\n",
    "def outer_func():\n",
    "    print('This is the outer function')\n",
    "obj=func1(outer_func)"
   ]
  },
  {
   "cell_type": "markdown",
   "id": "26e3bf71",
   "metadata": {},
   "source": [
    "DECORATORS IN FUNCTIONS"
   ]
  },
  {
   "cell_type": "markdown",
   "id": "8193ed07",
   "metadata": {},
   "source": [
    "These are used to modify the behavior of the function. Decorators provide the flexibility to wrap another function to expand the working of wrapped function, without permanently modifying it.\n",
    "\n",
    "It is also called meta programming where a part of the program attempts to change another part of program at compile time.\n",
    "\n",
    "In Decorators, functions are taken as the argument into another function and then called inside the wrapper function."
   ]
  },
  {
   "cell_type": "code",
   "execution_count": null,
   "id": "455cf329",
   "metadata": {},
   "outputs": [],
   "source": []
  },
  {
   "cell_type": "code",
   "execution_count": 69,
   "id": "cc1135ab",
   "metadata": {},
   "outputs": [
    {
     "name": "stdout",
     "output_type": "stream",
     "text": [
      "This is the first function\n",
      "This is the nested function\n",
      "This is the outer function\n"
     ]
    }
   ],
   "source": [
    "def func1(called_func):\n",
    "    print('This is the first function')\n",
    "    def nested_func1():\n",
    "        print('This is the nested function')\n",
    "        called_func()\n",
    "    return nested_func1()\n",
    "@func1\n",
    "def outer_func():\n",
    "    print('This is the outer function')\n",
    "outer_func"
   ]
  },
  {
   "cell_type": "markdown",
   "id": "569e1ab0",
   "metadata": {},
   "source": [
    "CREATING CLASSES AT RUNTIME(FACTORY)\n",
    "\n",
    "Here we create the skeleton of the class i.e:mention the class it inherits from, its attributes\n",
    "We dont create the class but we give definition"
   ]
  },
  {
   "cell_type": "code",
   "execution_count": 61,
   "id": "d5c28cc3",
   "metadata": {},
   "outputs": [],
   "source": [
    "B=type('BaseClass',(object,),{})\n",
    "C1=type('C1',(B,),{'val':5})\n",
    "C2=type('C2',(B,),{'val':10})"
   ]
  },
  {
   "cell_type": "code",
   "execution_count": 64,
   "id": "922ec7e5",
   "metadata": {},
   "outputs": [
    {
     "name": "stdout",
     "output_type": "stream",
     "text": [
      "5\n",
      "10\n"
     ]
    }
   ],
   "source": [
    "def classCreator(bool):\n",
    "    if(bool):\n",
    "        return C1\n",
    "    else:\n",
    "        return C2\n",
    "print(classCreator(True).val)\n",
    "print(classCreator(False).val)\n",
    "\n",
    "    "
   ]
  },
  {
   "cell_type": "code",
   "execution_count": null,
   "id": "96b7ed2e",
   "metadata": {},
   "outputs": [],
   "source": []
  }
 ],
 "metadata": {
  "kernelspec": {
   "display_name": "Python 3 (ipykernel)",
   "language": "python",
   "name": "python3"
  },
  "language_info": {
   "codemirror_mode": {
    "name": "ipython",
    "version": 3
   },
   "file_extension": ".py",
   "mimetype": "text/x-python",
   "name": "python",
   "nbconvert_exporter": "python",
   "pygments_lexer": "ipython3",
   "version": "3.9.12"
  }
 },
 "nbformat": 4,
 "nbformat_minor": 5
}
