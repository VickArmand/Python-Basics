{
 "cells": [
  {
   "cell_type": "code",
   "execution_count": 66,
   "id": "be19fd14",
   "metadata": {},
   "outputs": [],
   "source": [
    "import pandas as pd\n",
    "import numpy as np\n",
    "import matplotlib.pyplot as plt\n",
    "%matplotlib inline\n",
    "from urllib.request import urlopen#for opening urls\n",
    "from bs4 import BeautifulSoup\n",
    "import re#for manipulating regular expressions"
   ]
  },
  {
   "cell_type": "code",
   "execution_count": 67,
   "id": "6a4bdeff",
   "metadata": {},
   "outputs": [],
   "source": [
    "url= \"https://www.hubertiming.com/results/2018MLK\"\n",
    "htmlcontent=urlopen(url)"
   ]
  },
  {
   "cell_type": "code",
   "execution_count": 68,
   "id": "71c62dd6",
   "metadata": {},
   "outputs": [],
   "source": [
    "soup=BeautifulSoup(htmlcontent)"
   ]
  },
  {
   "cell_type": "code",
   "execution_count": 69,
   "id": "6a241803",
   "metadata": {},
   "outputs": [
    {
     "data": {
      "text/plain": [
       "<title>Race results for the 2018 MLK Dream Run!</title>"
      ]
     },
     "execution_count": 69,
     "metadata": {},
     "output_type": "execute_result"
    }
   ],
   "source": [
    "title=soup.title\n",
    "title"
   ]
  },
  {
   "cell_type": "code",
   "execution_count": 70,
   "id": "06f9a6ef",
   "metadata": {},
   "outputs": [
    {
     "data": {
      "text/plain": [
       "'Race results for the 2018 MLK Dream Run!'"
      ]
     },
     "execution_count": 70,
     "metadata": {},
     "output_type": "execute_result"
    }
   ],
   "source": [
    "title.text"
   ]
  },
  {
   "cell_type": "code",
   "execution_count": 71,
   "id": "29f5f88a",
   "metadata": {},
   "outputs": [
    {
     "data": {
      "text/plain": [
       "[<a href=\"https://www.mlkdreamrun.com/\" target=\"_blank\">MLK Dream Run</a>,\n",
       " <a href=\"mailto:timing@hubertiming.com\">timing@hubertiming.com</a>,\n",
       " <a href=\"https://www.hubertiming.com\">Huber Timing Home</a>,\n",
       " <a class=\"btn btn-primary btn-lg\" href=\"/results/2018MLK10K\" role=\"button\" style=\"margin: 0px 0px 5px 5px\"><i aria-hidden=\"true\" class=\"fa fa-user\"></i> 10K</a>,\n",
       " <a class=\"btn btn-primary btn-lg\" href=\"/results/2018MLK15K\" role=\"button\" style=\"margin: 0px 0px 5px 5px\"><i aria-hidden=\"true\" class=\"fa fa-user\"></i> 15K</a>,\n",
       " <a class=\"btn btn-primary btn-lg\" href=\"/results/summary/2018MLK\" role=\"button\" style=\"margin: 0px 0px 5px 5px\"><i class=\"fa fa-stream\"></i> Summary</a>,\n",
       " <a data-url=\"/results/2018MLK\" href=\"#tabs-1\" id=\"rootTab\" style=\"font-size: 18px\">5K Results</a>,\n",
       " <a href=\"https://www.hubertiming.com/\"><img height=\"65\" src=\"https://www.hubertiming.com//sites/all/themes/hubertiming/images/clockWithFinishSign_small.png\" width=\"50\"/>Huber Timing</a>,\n",
       " <a href=\"https://facebook.com/hubertiming/\"><img src=\"https://www.hubertiming.com/results/FB-f-Logo__blue_50.png\"/></a>]"
      ]
     },
     "execution_count": 71,
     "metadata": {},
     "output_type": "execute_result"
    }
   ],
   "source": [
    "links=soup.find_all('a',href=True)\n",
    "links"
   ]
  },
  {
   "cell_type": "code",
   "execution_count": 72,
   "id": "bba23f83",
   "metadata": {},
   "outputs": [
    {
     "name": "stdout",
     "output_type": "stream",
     "text": [
      "https://www.mlkdreamrun.com/\n",
      "mailto:timing@hubertiming.com\n",
      "https://www.hubertiming.com\n",
      "/results/2018MLK10K\n",
      "/results/2018MLK15K\n",
      "/results/summary/2018MLK\n",
      "#tabs-1\n",
      "https://www.hubertiming.com/\n",
      "https://facebook.com/hubertiming/\n"
     ]
    }
   ],
   "source": [
    "for link in links:\n",
    "    print(link.get('href'))\n",
    "#     similar to \n",
    "#     print(link['href'])"
   ]
  },
  {
   "cell_type": "code",
   "execution_count": 73,
   "id": "693bbaa0",
   "metadata": {},
   "outputs": [
    {
     "name": "stdout",
     "output_type": "stream",
     "text": [
      "[[], ['1', '1191', '                      MAX RANDOLPH                  ', 'M', '29', 'WASHINGTON', 'DC', '5:25', '16:48', '                      1 of 78                  ', 'M 21-39', '                      1 of 33                  ', '0:08', '16:56'], ['2', '1080', '                      NEED NAME KAISER RUNNER                  ', 'M', '25', 'PORTLAND', 'OR', '5:39', '17:31', '                      2 of 78                  ', 'M 21-39', '                      2 of 33                  ', '0:09', '17:40'], ['3', '1275', '                      DAN FRANEK                  ', 'M', '52', 'PORTLAND', 'OR', '5:53', '18:15', '                      3 of 78                  ', 'M 40-54', '                      1 of 27                  ', '0:07', '18:22'], ['4', '1223', '                      PAUL TAYLOR                  ', 'M', '54', 'PORTLAND', 'OR', '5:58', '18:31', '                      4 of 78                  ', 'M 40-54', '                      2 of 27                  ', '0:07', '18:38'], ['5', '1245', '                      THEO KINMAN                  ', 'M', '22', '', '', '6:17', '19:31', '                      5 of 78                  ', 'M 21-39', '                      3 of 33                  ', '0:09', '19:40'], ['6', '1185', '                      MELISSA GIRGIS                  ', 'F', '27', 'PORTLAND', 'OR', '6:20', '19:39', '                      1 of 113                  ', 'F 21-39', '                      1 of 53                  ', '0:07', '19:46'], ['7', '1251', '                      CHARLIE COGGESHALL                  ', 'M', '39', 'PORTLAND', 'OR', '6:24', '19:51', '                      6 of 78                  ', 'M 21-39', '                      4 of 33                  ', '0:10', '20:01'], ['8', '1154', '                      UNKNOWN RUNNER SEE TIMER                  ', 'M', '', '', '', '8:03', '24:58', '                      7 of 78                  ', '', '                      1 of 9                  ', '2:00', '26:58'], ['9', '1163', '                      UNKNOWN RUNNER SEE TIMER                  ', 'M', '', '', '', '8:04', '25:01', '                      8 of 78                  ', '', '                      2 of 9                  ', '1:59', '27:00'], ['10', '1242', '                      KIMONTI WILSON                  ', 'F', '48', '', '', '8:04', '25:01', '                      2 of 113                  ', 'F 40-54', '                      1 of 37                  ', '1:59', '27:00'], ['11', '1017', '                      COREY MCMANUS                  ', 'M', '37', 'BEAVERTON', 'OR', '8:09', '25:17', '                      9 of 78                  ', 'M 21-39', '                      5 of 33                  ', '0:22', '25:39'], ['12', '1112', '                      MITCHELL JOHNSON                  ', 'M', '25', 'PORTLAND', 'OR', '8:13', '25:31', '                      10 of 78                  ', 'M 21-39', '                      6 of 33                  ', '0:15', '25:46'], ['13', '1062', '                      ALEX KABA                  ', 'M', '36', 'PORTLAND', 'OR', '8:14', '25:31', '                      11 of 78                  ', 'M 21-39', '                      7 of 33                  ', '0:14', '25:45'], ['14', '1227', '                      ROBYN MCGILLIS                  ', 'F', '44', 'PORTLAND', 'OR', '8:18', '25:44', '                      3 of 113                  ', 'F 40-54', '                      2 of 37                  ', '0:08', '25:52'], ['15', '1067', '                      MITCHELL WARDEN                  ', 'M', '29', 'PORTLAND', 'OR', '8:19', '25:46', '                      12 of 78                  ', 'M 21-39', '                      8 of 33                  ', '0:14', '26:00'], ['16', '1136', '                      JULIA METZ                  ', 'F', '32', 'PORTLAND', 'OR', '8:33', '26:31', '                      4 of 113                  ', 'F 21-39', '                      2 of 53                  ', '0:33', '27:04'], ['17', '1199', '                      JEREMY AREZZINI                  ', 'M', '38', 'LAKE OSWEGO', 'OR', '8:37', '26:44', '                      13 of 78                  ', 'M 21-39', '                      9 of 33                  ', '0:41', '27:25'], ['18', '1252', '                      ETHAN POWELL                  ', 'M', '', '', '', '8:40', '26:52', '                      14 of 78                  ', '', '                      3 of 9                  ', '0:11', '27:03'], ['19', '1231', '                      TIMOTHY KEARNEY                  ', 'M', '42', 'PORTLAND', 'OR', '8:42', '26:58', '                      15 of 78                  ', 'M 40-54', '                      3 of 27                  ', '0:11', '27:09'], ['20', '1108', '                      TIMOTHY RINGERING                  ', 'M', '50', 'VANCOUVER', 'WA', '8:43', '27:02', '                      16 of 78                  ', 'M 40-54', '                      4 of 27                  ', '0:10', '27:12'], ['21', '1118', '                      PONTUS JADERHOLM                  ', 'M', '43', 'PORTLAND', 'OR', '8:45', '27:08', '                      17 of 78                  ', 'M 40-54', '                      5 of 27                  ', '0:13', '27:21'], ['22', '1246', '                      KERRY FLAGG                  ', 'M', '', '', '', '8:45', '27:10', '                      18 of 78                  ', '', '                      4 of 9                  ', '0:10', '27:20'], ['23', '1244', '                      JARRED FLAGG                  ', 'M', '', '', '', '8:46', '27:11', '                      19 of 78                  ', '', '                      5 of 9                  ', '0:10', '27:21'], ['24', '1224', '                      KEN SKEEN                  ', 'M', '57', 'PORTLAND', 'OR', '8:46', '27:12', '                      20 of 78                  ', 'M 55+', '                      1 of 5                  ', '0:18', '27:30'], ['25', '1065', '                      SARA KOPTON                  ', 'F', '40', 'PORTLAND', 'OR', '8:51', '27:27', '                      5 of 113                  ', 'F 40-54', '                      3 of 37                  ', '0:20', '27:47'], ['26', '1274', '                      KAISER GUEST                  ', 'F', '40', 'PORTLAND', 'OR', '8:54', '27:37', '                      6 of 113                  ', 'F 40-54', '                      4 of 37                  ', '0:09', '27:46'], ['27', '1208', '                      JUSTIN PERZ                  ', 'M', '33', 'PORTLAND', 'OR', '8:55', '27:39', '                      21 of 78                  ', 'M 21-39', '                      10 of 33                  ', '0:38', '28:17'], ['28', '1072', '                      ESTELA SÁNCHEZ                  ', 'F', '41', 'PORTLAND', 'OR', '8:57', '27:45', '                      7 of 113                  ', 'F 40-54', '                      5 of 37                  ', '0:08', '27:53'], ['29', '1018', '                      JASON WILLIAMS                  ', 'M', '41', 'PORTLAND', 'OR', '8:58', '27:50', '                      22 of 78                  ', 'M 40-54', '                      6 of 27                  ', '0:23', '28:13'], ['30', '1297', '                      ADRIANA BRITTON                  ', 'F', '53', 'PORTLAND', 'OR', '9:00', '27:54', '                      8 of 113                  ', 'F 40-54', '                      6 of 37                  ', '0:12', '28:06'], ['31', '1117', '                      MARK WOOD                  ', 'M', '43', 'PORTLAND', 'OR', '9:03', '28:05', '                      23 of 78                  ', 'M 40-54', '                      7 of 27                  ', '0:30', '28:35'], ['32', '1201', '                      STEVE CRANDELL                  ', 'M', '61', 'PORTLAND', 'OR', '9:03', '28:06', '                      24 of 78                  ', 'M 55+', '                      2 of 5                  ', '0:09', '28:15'], ['33', '1110', '                      DARRELL KRIECHBAUM                  ', 'M', '53', 'PORTLAND', 'OR', '9:05', '28:11', '                      25 of 78                  ', 'M 40-54', '                      8 of 27                  ', '0:12', '28:23'], ['34', '1104', '                      JANICE JACOBS                  ', 'F', '55', 'SALEM', 'OR', '9:05', '28:11', '                      9 of 113                  ', 'F 55+', '                      1 of 14                  ', '0:15', '28:26'], ['35', '1300', '                      CORY ANDERSON                  ', 'M', '30', 'PORTLAND', 'OR', '9:06', '28:14', '                      26 of 78                  ', 'M 21-39', '                      11 of 33                  ', '0:19', '28:33'], ['36', '1238', '                      PAUL SUMMERS                  ', 'M', '24', 'PORTLAND', 'OR', '9:08', '28:21', '                      27 of 78                  ', 'M 21-39', '                      12 of 33                  ', '0:15', '28:36'], ['37', '1298', '                      ALEX NGUYEN                  ', 'M', '26', '', '', '9:09', '28:22', '                      28 of 78                  ', 'M 21-39', '                      13 of 33                  ', '0:19', '28:41'], ['38', '1157', '                      JEREMY SWEET                  ', 'M', '27', 'PORTLAND', 'OR', '9:12', '28:32', '                      29 of 78                  ', 'M 21-39', '                      14 of 33                  ', '0:20', '28:52'], ['39', '1106', '                      DANIEL JOHNSTON                  ', 'M', '43', 'PORTLAND', 'OR', '9:12', '28:32', '                      30 of 78                  ', 'M 40-54', '                      9 of 27                  ', '0:12', '28:44'], ['40', '1196', '                      LIZANN DUNEGAN                  ', 'F', '53', 'PORTLAND', 'OR', '9:13', '28:34', '                      10 of 113                  ', 'F 40-54', '                      7 of 37                  ', '0:14', '28:48'], ['41', '1239', '                      ALYX WYNN                  ', 'F', '28', 'PORTLAND', 'OR', '9:14', '28:37', '                      11 of 113                  ', 'F 21-39', '                      3 of 53                  ', '0:21', '28:58'], ['42', '1087', '                      YALOUNDA HUNT                  ', 'F', '60', 'PORTLAND', 'OR', '9:14', '28:40', '                      12 of 113                  ', 'F 55+', '                      2 of 14                  ', '0:09', '28:49'], ['43', '1068', '                      SERGIO RIVERA                  ', 'M', '32', 'PORTLAND', 'OR', '9:15', '28:41', '                      31 of 78                  ', 'M 21-39', '                      15 of 33                  ', '0:21', '29:02'], ['44', '1071', '                      PEDRO FLORES                  ', 'M', '42', 'PORTLAND', 'OR', '9:15', '28:42', '                      32 of 78                  ', 'M 40-54', '                      10 of 27                  ', '0:08', '28:50'], ['45', '1159', '                      JEFF DOWNEY                  ', 'M', '36', 'PORTLAND', 'OR', '9:15', '28:42', '                      33 of 78                  ', 'M 21-39', '                      16 of 33                  ', '0:19', '29:01'], ['46', '1241', '                      NICK SCHUDER                  ', 'M', '44', 'PORTLAND', 'OR', '9:16', '28:45', '                      34 of 78                  ', 'M 40-54', '                      11 of 27                  ', '0:18', '29:03'], ['47', '1023', '                      JOHN GARDNER                  ', 'M', '44', 'PORTLAND', 'OR', '9:18', '28:51', '                      35 of 78                  ', 'M 40-54', '                      12 of 27                  ', '0:25', '29:16'], ['48', '1253', '                      JAZMIN BEMBRY                  ', 'F', '23', 'PORTLAND', 'OR', '9:20', '28:56', '                      13 of 113                  ', 'F 21-39', '                      4 of 53                  ', '0:15', '29:11'], ['49', '1247', '                      THEO KINWAN                  ', 'F', '', '', '', '9:24', '29:09', '                      14 of 113                  ', '', '                      6 of 9                  ', '0:10', '29:19'], ['50', '1019', '                      ERIKA TURNEY                  ', 'F', '46', 'BATTLE GROUNDB', 'WA', '9:24', '29:10', '                      15 of 113                  ', 'F 40-54', '                      8 of 37                  ', '0:24', '29:34'], ['51', '1066', '                      MICHELLE FRAZIER                  ', 'F', '27', 'PORTLAND', 'OR', '9:25', '29:12', '                      16 of 113                  ', 'F 21-39', '                      5 of 53                  ', '0:13', '29:25'], ['52', '1151', '                      CHRISTINA LECHER                  ', 'F', '31', 'MILWAUKEE', 'WI', '9:28', '29:21', '                      17 of 113                  ', 'F 21-39', '                      6 of 53                  ', '0:18', '29:39'], ['53', '1152', '                      BERNARD RAHMING                  ', 'M', '31', 'PORTLAND', 'OR', '9:28', '29:21', '                      36 of 78                  ', 'M 21-39', '                      17 of 33                  ', '0:18', '29:39'], ['54', '1095', '                      TROY PICKARD                  ', 'M', '36', 'PORTLAND', 'OR', '9:28', '29:22', '                      37 of 78                  ', 'M 21-39', '                      18 of 33                  ', '0:44', '30:06'], ['55', '1028', '                      JONATHAN TILLMAN                  ', 'M', '49', 'PORTLAND', 'OR', '9:28', '29:23', '                      38 of 78                  ', 'M 40-54', '                      13 of 27                  ', '0:24', '29:47'], ['56', '1174', '                      CYNJAYSHA BOLES                  ', 'F', '26', 'PORTLAND', 'OR', '9:36', '29:46', '                      18 of 113                  ', 'F 21-39', '                      7 of 53                  ', '0:09', '29:55'], ['57', '1013', '                      TERESA MCGRATH                  ', 'F', '65', 'PORTLAND', 'OR', '9:37', '29:51', '                      19 of 113                  ', 'F 55+', '                      3 of 14                  ', '0:10', '30:01'], ['58', '1237', '                      ERYN HOERSTER                  ', 'F', '37', 'PORTLAND', 'OR', '9:53', '30:41', '                      20 of 113                  ', 'F 21-39', '                      8 of 53                  ', '0:40', '31:21'], ['59', '1230', '                      EDUARDO ARIZAGA                  ', 'M', '38', 'PORTLAND', 'OR', '9:58', '30:55', '                      39 of 78                  ', 'M 21-39', '                      19 of 33                  ', '0:47', '31:42'], ['60', '1236', '                      BEN HOERSTER                  ', 'M', '37', 'PORTLAND', 'OR', '10:09', '31:29', '                      40 of 78                  ', 'M 21-39', '                      20 of 33                  ', '0:43', '32:12'], ['61', '1125', '                      ABIGAIL VAN GELDER                  ', 'F', '36', 'PORTLAND', 'OR', '10:12', '31:37', '                      21 of 113                  ', 'F 21-39', '                      9 of 53                  ', '0:16', '31:53'], ['62', '1053', '                      DAMIANA KING                  ', 'F', '38', 'PORTLAND', 'OR', '10:20', '32:02', '                      22 of 113                  ', 'F 21-39', '                      10 of 53                  ', '0:12', '32:14'], ['63', '1010', '                      HEATHER CERMAK                  ', 'F', '29', 'PORTLAND', 'OR', '10:23', '32:11', '                      23 of 113                  ', 'F 21-39', '                      11 of 53                  ', '0:41', '32:52'], ['64', '1011', '                      COLE CHRIST                  ', 'M', '19', 'PORTLAND', 'OR', '10:23', '32:11', '                      41 of 78                  ', 'M 20 and Under', '                      1 of 7                  ', '0:42', '32:53'], ['65', '1179', '                      MIRIAN HINOJOSA                  ', 'F', '40', 'MILWAUKIE', 'OR', '10:34', '32:48', '                      24 of 113                  ', 'F 40-54', '                      9 of 37                  ', '0:14', '33:02'], ['66', '1183', '                      CAMERON SEIDLING                  ', 'M', '28', 'PORTLAND', 'OR', '10:44', '33:16', '                      42 of 78                  ', 'M 21-39', '                      21 of 33                  ', '0:37', '33:53'], ['67', '1137', '                      LARRY JENKINS                  ', 'M', '31', 'PORTLAND', 'OR', '10:44', '33:16', '                      43 of 78                  ', 'M 21-39', '                      22 of 33                  ', '0:34', '33:50'], ['68', '1173', '                      ALYS MEYER                  ', 'F', '12', 'PORTLAND', 'OR', '10:49', '33:33', '                      25 of 113                  ', 'F 20 and Under', '                      1 of 6                  ', '0:27', '34:00'], ['69', '1103', '                      SARAH MEYER                  ', 'F', '34', 'PORTLAND', 'OR', '10:50', '33:36', '                      26 of 113                  ', 'F 21-39', '                      12 of 53                  ', '0:26', '34:02'], ['70', '1100', '                      ELIZABETH TAYLOR                  ', 'F', '39', 'PORTLAND', 'OR', '10:51', '33:40', '                      27 of 113                  ', 'F 21-39', '                      13 of 53                  ', '0:37', '34:17'], ['71', '1190', '                      RICARDO BARRERA                  ', 'M', '45', 'PORTLAND', 'OR', '10:58', '34:00', '                      44 of 78                  ', 'M 40-54', '                      14 of 27                  ', '0:29', '34:29'], ['72', '1127', '                      MOIRA SHERRY                  ', 'F', '24', 'PORTLAND', 'OR', '11:02', '34:14', '                      28 of 113                  ', 'F 21-39', '                      14 of 53                  ', '0:19', '34:33'], ['73', '1299', '                      BRYNDON COUGHLIN                  ', 'M', '27', 'PORTLAND', 'OR', '11:03', '34:16', '                      45 of 78                  ', 'M 21-39', '                      23 of 33                  ', '0:44', '35:00'], ['74', '1261', '                      CHADI BOTRNS                  ', 'M', '', '', '', '11:04', '34:19', '                      46 of 78                  ', '', '                      7 of 9                  ', '0:30', '34:49'], ['75', '1006', '                      HELEN SHARP                  ', 'F', '53', 'FOREST GROVE', 'OR', '11:08', '34:32', '                      29 of 113                  ', 'F 40-54', '                      10 of 37                  ', '0:16', '34:48'], ['76', '1165', '                      CLAYTON BELL                  ', 'M', '40', 'PORTLAND', 'OR', '11:10', '34:38', '                      47 of 78                  ', 'M 40-54', '                      15 of 27                  ', '0:18', '34:56'], ['77', '1219', '                      PATRICIA ENGLE                  ', 'F', '43', 'PORTLAND', 'OR', '11:11', '34:42', '                      30 of 113                  ', 'F 40-54', '                      11 of 37                  ', '0:30', '35:12'], ['78', '1200', '                      BEN KLEVIT                  ', 'M', '53', 'LAKE OSWEGO', 'OR', '11:13', '34:49', '                      48 of 78                  ', 'M 40-54', '                      16 of 27                  ', '0:39', '35:28'], ['79', '1132', '                      KAYLEN GIBBENS                  ', 'F', '41', 'HILLSBORO', 'OR', '11:15', '34:54', '                      31 of 113                  ', 'F 40-54', '                      12 of 37                  ', '0:20', '35:14'], ['80', '1122', '                      AUGUST EPSTEIN                  ', 'M', '26', 'PORTLAND', 'OR', '11:36', '35:57', '                      49 of 78                  ', 'M 21-39', '                      24 of 33                  ', '0:12', '36:09'], ['81', '1121', '                      SAMANTHA PINKERTON                  ', 'F', '26', 'PORTLAND', 'OR', '11:36', '35:58', '                      32 of 113                  ', 'F 21-39', '                      15 of 53                  ', '0:12', '36:10'], ['82', '1107', '                      NICOLE SCHULMERICH                  ', 'F', '33', 'PORTLAND', 'OR', '11:40', '36:10', '                      33 of 113                  ', 'F 21-39', '                      16 of 53                  ', '0:27', '36:37'], ['83', '1056', '                      MARYJANE YACOBY                  ', 'F', '35', 'VANCOUVER', 'WA', '11:54', '36:53', '                      34 of 113                  ', 'F 21-39', '                      17 of 53                  ', '0:22', '37:15'], ['84', '1057', '                      JOEL YACOBY                  ', 'M', '40', 'VANCOUVER', 'WA', '11:54', '36:56', '                      50 of 78                  ', 'M 40-54', '                      17 of 27                  ', '0:22', '37:18'], ['85', '1055', '                      JILL TIMSHEL                  ', 'F', '39', 'BATTLE GROUND', 'WA', '11:55', '36:56', '                      35 of 113                  ', 'F 21-39', '                      18 of 53                  ', '0:23', '37:19'], ['86', '1022', '                      CHRISTIE VANG                  ', 'F', '32', 'PORTLAND', 'OR', '11:57', '37:02', '                      36 of 113                  ', 'F 21-39', '                      19 of 53                  ', '0:29', '37:31'], ['87', '1192', '                      JUNE REYES                  ', 'F', '30', 'PORTLAND', 'OR', '12:02', '37:18', '                      37 of 113                  ', 'F 21-39', '                      20 of 53                  ', '0:20', '37:38'], ['88', '1078', '                      FRED SMITH                  ', 'M', '46', 'PORTLAND', 'OR', '12:17', '38:06', '                      51 of 78                  ', 'M 40-54', '                      18 of 27                  ', '0:18', '38:24'], ['89', '1077', '                      BRIANNA MILLER                  ', 'F', '25', 'PORTLAND', 'OR', '12:20', '38:15', '                      38 of 113                  ', 'F 21-39', '                      21 of 53                  ', '0:26', '38:41'], ['90', '1073', '                      RAÚL ROMERO                  ', 'M', '42', 'PORTLAND', 'OR', '12:23', '38:23', '                      52 of 78                  ', 'M 40-54', '                      19 of 27                  ', '0:00', '38:23'], ['91', '1134', '                      AMANDA MATLIN                  ', 'F', '36', 'PORTLAND', 'OR', '12:40', '39:17', '                      39 of 113                  ', 'F 21-39', '                      22 of 53                  ', '0:35', '39:52'], ['92', '1096', '                      SHAYLA VELASQUEZ                  ', 'F', '28', 'TROUTDALEUTDALE', 'OR', '12:40', '39:18', '                      40 of 113                  ', 'F 21-39', '                      23 of 53                  ', '0:26', '39:44'], ['93', '1195', '                      PEYTON VELASQUEZ                  ', 'M', '9', 'TROUTDALEUTDALE', 'OR', '12:40', '39:18', '                      53 of 78                  ', 'M 20 and Under', '                      2 of 7                  ', '0:26', '39:44'], ['94', '1176', '                      JOSHUA BRUNO                  ', 'M', '40', 'PORTLAND', 'OR', '12:41', '39:20', '                      54 of 78                  ', 'M 40-54', '                      20 of 27                  ', '0:33', '39:53'], ['95', '1064', '                      DANIALE LYNCH                  ', 'F', '39', 'PORTLAND', 'OR', '12:44', '39:28', '                      41 of 113                  ', 'F 21-39', '                      24 of 53                  ', '0:22', '39:50'], ['96', '1189', '                      SHAYLA TURNER                  ', 'F', '33', 'PORTLAND', 'OR', '12:44', '39:30', '                      42 of 113                  ', 'F 21-39', '                      25 of 53                  ', '0:18', '39:48'], ['97', '1177', '                      MELITA LYNCH                  ', 'F', '22', 'PORTLAND', 'OR', '12:52', '39:55', '                      43 of 113                  ', 'F 21-39', '                      26 of 53                  ', '0:23', '40:18'], ['98', '1178', '                      DEVON WONG                  ', 'M', '26', 'PORTLAND', 'OR', '12:52', '39:55', '                      55 of 78                  ', 'M 21-39', '                      25 of 33                  ', '0:23', '40:18'], ['99', '1184', '                      KELLY BUCHANAN                  ', 'F', '28', 'PORTLAND', 'OR', '12:55', '40:03', '                      44 of 113                  ', 'F 21-39', '                      27 of 53                  ', '0:36', '40:39'], ['100', '1029', '                      MOLLI MITCHELL                  ', 'F', '36', 'PORTLAND', 'OR', '13:01', '40:21', '                      45 of 113                  ', 'F 21-39', '                      28 of 53                  ', '0:30', '40:51'], ['101', '1158', '                      JAYMES LATIMER                  ', 'M', '27', 'PORTLAND', 'OR', '13:10', '40:50', '                      56 of 78                  ', 'M 21-39', '                      26 of 33                  ', '0:19', '41:09'], ['102', '1296', '                      SUE ANN HIGGENS                  ', 'F', '57', 'PORTLAND', 'OR', '13:18', '41:15', '                      46 of 113                  ', 'F 55+', '                      4 of 14                  ', '0:17', '41:32'], ['103', '1020', '                      NAT KIM                  ', 'F', '38', 'PORTLAND', 'OR', '13:20', '41:21', '                      47 of 113                  ', 'F 21-39', '                      29 of 53                  ', '0:10', '41:31'], ['104', '1052', '                      BETH BOGDEWIECZ                  ', 'F', '37', 'PORTLAND', 'OR', '13:29', '41:50', '                      48 of 113                  ', 'F 21-39', '                      30 of 53                  ', '0:27', '42:17'], ['105', '1051', '                      AMBER BOGDEWIECZ                  ', 'F', '38', 'PORTLAND', 'OR', '13:29', '41:50', '                      49 of 113                  ', 'F 21-39', '                      31 of 53                  ', '0:27', '42:17'], ['106', '1069', '                      PAM CROW                  ', 'F', '61', 'PORTLAND', 'OR', '13:34', '42:04', '                      50 of 113                  ', 'F 55+', '                      5 of 14                  ', '0:23', '42:27'], ['107', '1076', '                      MARLON BROUSSARD                  ', 'M', '47', 'PORTLAND', 'OR', '13:39', '42:21', '                      57 of 78                  ', 'M 40-54', '                      21 of 27                  ', '0:19', '42:40'], ['108', '1070', '                      HAILEI ABERSON                  ', 'F', '23', 'PORTLAND', 'OR', '13:52', '43:01', '                      51 of 113                  ', 'F 21-39', '                      32 of 53                  ', '0:24', '43:25'], ['109', '1166', '                      GRACE MCBARRON                  ', 'F', '23', 'PORTLAND', 'OR', '13:52', '43:01', '                      52 of 113                  ', 'F 21-39', '                      33 of 53                  ', '0:25', '43:26'], ['110', '1164', '                      AMIYAH HOLFORD                  ', 'F', '15', 'PORTLAND', 'OR', '13:54', '43:07', '                      53 of 113                  ', 'F 20 and Under', '                      2 of 6                  ', '0:25', '43:32'], ['111', '1222', '                      KENNETH MARSHALL                  ', 'M', '26', 'VANCOUVER', 'WA', '13:58', '43:20', '                      58 of 78                  ', 'M 21-39', '                      27 of 33                  ', '0:11', '43:31'], ['112', '1097', '                      VERNA MARSHALL                  ', 'F', '64', 'CAMAS', 'WA', '13:59', '43:20', '                      54 of 113                  ', 'F 55+', '                      6 of 14                  ', '0:12', '43:32'], ['113', '1101', '                      ERIN SCHWARZ                  ', 'F', '29', 'PORTLAND', 'OR', '14:08', '43:50', '                      55 of 113                  ', 'F 21-39', '                      34 of 53                  ', '0:37', '44:27'], ['114', '1144', '                      KIMBERLEY JACKSON                  ', 'F', '51', 'PORTLAND', 'OR', '14:26', '44:46', '                      56 of 113                  ', 'F 40-54', '                      13 of 37                  ', '0:32', '45:18'], ['115', '1007', '                      KYLE NEWELL                  ', 'M', '57', 'PORTLAND', 'OR', '14:30', '44:58', '                      59 of 78                  ', 'M 55+', '                      3 of 5                  ', '0:31', '45:29'], ['116', '1229', '                      KAREN FOSTER                  ', 'F', '39', 'PORTLAND', 'OR', '14:32', '45:06', '                      57 of 113                  ', 'F 21-39', '                      35 of 53                  ', '0:13', '45:19'], ['117', '1005', '                      DELIA GRENVILLE                  ', 'F', '52', 'PORTLAND', 'OR', '14:34', '45:10', '                      58 of 113                  ', 'F 40-54', '                      14 of 37                  ', '0:15', '45:25'], ['118', '1295', '                      THOMAS RUKS                  ', 'M', '50', 'PORTLAND', 'OR', '14:36', '45:15', '                      60 of 78                  ', 'M 40-54', '                      22 of 27                  ', '0:37', '45:52'], ['119', '1054', '                      TRACY BOWLES                  ', 'F', '38', 'PORTLAND', 'OR', '14:55', '46:17', '                      59 of 113                  ', 'F 21-39', '                      36 of 53                  ', '0:23', '46:40'], ['120', '1262', '                      KARI SCHLINKMEIER                  ', 'F', '', '', '', '15:18', '47:28', '                      60 of 113                  ', '', '                      8 of 9                  ', '0:13', '47:41'], ['121', '1024', '                      CINZIA CORIO-HOLMAN                  ', 'F', '52', 'PORTLAND', 'OR', '15:22', '47:41', '                      61 of 113                  ', 'F 40-54', '                      15 of 37                  ', '0:23', '48:04'], ['122', '1088', '                      GALEN HARDEN                  ', 'M', '52', 'PORTLAND', '', '15:27', '47:56', '                      61 of 78                  ', 'M 40-54', '                      23 of 27                  ', '0:17', '48:13'], ['123', '1059', '                      AMIYAH BERRY                  ', 'F', '9', 'PORTLAND', 'OR', '15:29', '48:00', '                      62 of 113                  ', 'F 20 and Under', '                      3 of 6                  ', '0:31', '48:31'], ['124', '1014', '                      DESIREE VIELMETTI                  ', 'F', '34', 'PORTLAND', 'OR', '15:29', '48:02', '                      63 of 113                  ', 'F 21-39', '                      37 of 53                  ', '0:29', '48:31'], ['125', '1015', '                      BRITTANY BERRY HILL                  ', 'F', '29', 'PORTLAND', 'OR', '15:30', '48:03', '                      64 of 113                  ', 'F 21-39', '                      38 of 53                  ', '0:31', '48:34'], ['126', '1035', '                      JESSE CHRISTENSON                  ', 'M', '37', 'PORTLAND', 'OR', '15:31', '48:07', '                      62 of 78                  ', 'M 21-39', '                      28 of 33                  ', '0:30', '48:37'], ['127', '1172', '                      LOUISE MOROZ                  ', 'F', '48', 'PEORIA', 'AZ', '15:37', '48:26', '                      65 of 113                  ', 'F 40-54', '                      16 of 37                  ', '0:44', '49:10'], ['128', '1012', '                      MEREDITH BOWIE                  ', 'F', '37', 'SHERWOOD', 'OR', '15:38', '48:28', '                      66 of 113                  ', 'F 21-39', '                      39 of 53                  ', '0:43', '49:11'], ['129', '1248', '                      TERI UNTALAN                  ', 'F', '51', 'PORTLAND', 'OR', '15:54', '49:20', '                      67 of 113                  ', 'F 40-54', '                      17 of 37                  ', '0:27', '49:47'], ['130', '1249', '                      SAM MCKINSTRY                  ', 'M', '33', 'PORTLAND', 'OR', '15:54', '49:20', '                      63 of 78                  ', 'M 21-39', '                      29 of 33                  ', '0:26', '49:46'], ['131', '1131', '                      MARGARET PETERSEN                  ', 'F', '13', 'VANCOUVER', 'WA', '16:33', '51:20', '                      68 of 113                  ', 'F 20 and Under', '                      4 of 6                  ', '0:36', '51:56'], ['132', '1188', '                      BARBARA WOODFORD                  ', 'F', '65', 'PORTLAND', 'OR', '16:33', '51:21', '                      69 of 113                  ', 'F 55+', '                      7 of 14                  ', '0:39', '52:00'], ['133', '1130', '                      DAVID PETERSEN                  ', 'M', '43', 'VANCOUVER', 'WA', '16:34', '51:21', '                      64 of 78                  ', 'M 40-54', '                      24 of 27                  ', '0:36', '51:57'], ['134', '1187', '                      TOM KELLY                  ', 'M', '67', 'PORTLAND', 'OR', '16:35', '51:24', '                      65 of 78                  ', 'M 55+', '                      4 of 5                  ', '0:38', '52:02'], ['135', '1039', '                      BRIONA HILL                  ', 'F', '21', 'PORTLAND', 'OR', '16:38', '51:36', '                      70 of 113                  ', 'F 21-39', '                      40 of 53                  ', '0:32', '52:08'], ['136', '1044', '                      MICHELE CRUSE                  ', 'F', '45', 'VANCOUVER', 'WA', '16:41', '51:43', '                      71 of 113                  ', 'F 40-54', '                      18 of 37                  ', '0:34', '52:17'], ['137', '1045', '                      MICHAEL CRUSE                  ', 'F', '51', 'VANCOUVER', 'WA', '16:52', '52:18', '                      72 of 113                  ', 'F 40-54', '                      19 of 37                  ', '0:36', '52:54'], ['138', '1141', '                      ALLYSON PRENTICE                  ', 'F', '56', 'GLADSTONE', 'OR', '17:05', '52:58', '                      73 of 113                  ', 'F 55+', '                      8 of 14                  ', '0:19', '53:17'], ['139', '1140', '                      DAPHNE TENNYSON                  ', 'F', '30', 'PORTLAND', 'OR', '17:05', '52:59', '                      74 of 113                  ', 'F 21-39', '                      41 of 53                  ', '0:20', '53:19'], ['140', '1198', '                      BRITTANY MASHIA                  ', 'F', '23', 'PORTLAND', 'OR', '17:10', '53:13', '                      75 of 113                  ', 'F 21-39', '                      42 of 53                  ', '0:38', '53:51'], ['141', '1214', '                      AVERY WIESLER                  ', 'M', '11', '', '', '17:15', '53:30', '                      66 of 78                  ', 'M 20 and Under', '                      3 of 7                  ', '0:32', '54:02'], ['142', '1215', '                      ELISE HENDRICKSON                  ', 'F', '48', '', '', '17:15', '53:31', '                      76 of 113                  ', 'F 40-54', '                      20 of 37                  ', '0:31', '54:02'], ['143', '1133', '                      AJIANNAH TURNER                  ', 'F', '13', 'PORTLAND', 'OR', '17:16', '53:33', '                      77 of 113                  ', 'F 20 and Under', '                      5 of 6                  ', '0:28', '54:01'], ['144', '1250', '                      KIM ONTI WILSON                  ', 'F', '', '', '', '17:42', '54:53', '                      78 of 113                  ', '', '                      9 of 9                  ', '0:13', '55:06'], ['145', '1228', '                      KAMELAH ADAMS                  ', 'F', '38', 'PORTLAND', 'OR', '17:43', '54:55', '                      79 of 113                  ', 'F 21-39', '                      43 of 53                  ', '0:13', '55:08'], ['146', '1243', '                      KATHY RUSSELL                  ', 'F', '60', 'PORTLAND', 'OR', '17:51', '55:22', '                      80 of 113                  ', 'F 55+', '                      9 of 14                  ', '0:17', '55:39'], ['147', '1060', '                      KARIN PRICE                  ', 'F', '38', 'VANCOUVER', 'WA', '18:28', '57:16', '                      81 of 113                  ', 'F 21-39', '                      44 of 53                  ', '0:32', '57:48'], ['148', '1009', '                      PATRICIA SNYDER                  ', 'F', '73', 'GLADSTONE', 'OR', '18:51', '58:27', '                      82 of 113                  ', 'F 55+', '                      10 of 14                  ', '0:34', '59:01'], ['149', '1008', '                      SANDIE KIEHL                  ', 'F', '71', 'GLADSTONE', 'OR', '18:51', '58:28', '                      83 of 113                  ', 'F 55+', '                      11 of 14                  ', '0:34', '59:02'], ['150', '1218', '                      JESSIE RICKER                  ', 'F', '33', 'PORTLAND', 'OR', '19:08', '59:20', '                      84 of 113                  ', 'F 21-39', '                      45 of 53                  ', '0:36', '59:56'], ['151', '1217', '                      LETICIA FOWLER                  ', 'F', '34', 'PORTLAND', 'OR', '19:09', '59:22', '                      85 of 113                  ', 'F 21-39', '                      46 of 53                  ', '0:35', '59:57'], ['152', '1206', '                      LISA WILLIAMS                  ', 'F', '48', 'PORTLAND', 'OR', '19:20', '59:58', '                      86 of 113                  ', 'F 40-54', '                      21 of 37                  ', '0:33', '1:00:31'], ['153', '1205', '                      ANDREA DEBNAM                  ', 'F', '45', 'PORTLAND', 'OR', '19:21', '1:00:01', '                      87 of 113                  ', 'F 40-54', '                      22 of 37                  ', '0:32', '1:00:33'], ['154', '1147', '                      KYM USSING                  ', 'F', '47', 'PORTLAND', 'OR', '19:23', '1:00:08', '                      88 of 113                  ', 'F 40-54', '                      23 of 37                  ', '0:29', '1:00:37'], ['155', '1129', '                      HEATHER ROSENTHAL                  ', 'F', '53', 'PORTLAND', 'OR', '19:24', '1:00:09', '                      89 of 113                  ', 'F 40-54', '                      24 of 37                  ', '0:27', '1:00:36'], ['156', '1211', '                      ARMISSA LYLES                  ', 'F', '44', 'GRESHAM', 'OR', '19:26', '1:00:16', '                      90 of 113                  ', 'F 40-54', '                      25 of 37                  ', '0:22', '1:00:38'], ['157', '1210', '                      ANGELA PLEDGER                  ', 'F', '49', 'GRESHAM', 'OR', '19:26', '1:00:17', '                      91 of 113                  ', 'F 40-54', '                      26 of 37                  ', '0:21', '1:00:38'], ['158', '1091', '                      CARLOS LASUNCET                  ', 'M', '44', 'BEAVERTON', '', '19:29', '1:00:24', '                      67 of 78                  ', 'M 40-54', '                      25 of 27                  ', '0:42', '1:01:06'], ['159', '1093', '                      MARISOL LASUNCET                  ', 'M', '9', '', '', '19:29', '1:00:24', '                      68 of 78                  ', 'M 20 and Under', '                      4 of 7                  ', '0:41', '1:01:05'], ['160', '1092', '                      DAWNNESHA LASUNCET                  ', 'F', '43', '', '', '19:30', '1:00:27', '                      92 of 113                  ', 'F 40-54', '                      27 of 37                  ', '0:40', '1:01:07'], ['161', '1109', '                      JACQUELINE PAUL                  ', 'F', '47', 'PORTLAND', 'OR', '19:36', '1:00:46', '                      93 of 113                  ', 'F 40-54', '                      28 of 37                  ', '0:17', '1:01:03'], ['162', '1138', '                      KAYLA PAUL                  ', 'F', '27', 'PORTLAND', 'OR', '19:36', '1:00:48', '                      94 of 113                  ', 'F 21-39', '                      47 of 53                  ', '0:17', '1:01:05'], ['163', '1259', '                      RICO GARCIA                  ', 'M', '17', '', '', '19:36', '1:00:48', '                      69 of 78                  ', 'M 20 and Under', '                      5 of 7                  ', '0:29', '1:01:17'], ['164', '1258', '                      CARLOS GARCIA                  ', 'M', '15', '', '', '19:37', '1:00:51', '                      70 of 78                  ', 'M 20 and Under', '                      6 of 7                  ', '0:24', '1:01:15'], ['165', '1260', '                      PEPE GARCIA                  ', 'M', '20', 'PORTLAND', 'OR', '19:37', '1:00:51', '                      71 of 78                  ', 'M 20 and Under', '                      7 of 7                  ', '0:29', '1:01:20'], ['166', '1255', '                      NAYANA GARCIA                  ', 'F', '11', 'PORTLAND', 'OR', '19:38', '1:00:53', '                      95 of 113                  ', 'F 20 and Under', '                      6 of 6                  ', '0:26', '1:01:19'], ['167', '1235', '                      MICHONNÈ GAMBLE-RIVERS                  ', 'F', '33', 'TIGARD', 'OR', '19:53', '1:01:40', '                      96 of 113                  ', 'F 21-39', '                      48 of 53                  ', '0:34', '1:02:14'], ['168', '1021', '                      TALITHA SINGHAI                  ', 'F', '53', 'PORTLAND', 'OR', '19:54', '1:01:43', '                      97 of 113                  ', 'F 40-54', '                      29 of 37                  ', '0:50', '1:02:33'], ['169', '1143', '                      DIANE BRANDSMA                  ', 'F', '53', 'BEAVERTON', 'OR', '19:56', '1:01:49', '                      98 of 113                  ', 'F 40-54', '                      30 of 37                  ', '0:44', '1:02:33'], ['170', '1234', '                      LINDSAY HARRIS                  ', 'F', '30', 'TIGARD', 'OR', '19:57', '1:01:50', '                      99 of 113                  ', 'F 21-39', '                      49 of 53                  ', '0:35', '1:02:25'], ['171', '1233', '                      WILLIE MURPHY                  ', 'M', '68', '', '', '20:00', '1:02:00', '                      72 of 78                  ', 'M 55+', '                      5 of 5                  ', '0:28', '1:02:28'], ['172', '1194', '                      MICHELLE BENTON                  ', 'F', '33', 'PORTLAND', 'OR', '20:00', '1:02:01', '                      100 of 113                  ', 'F 21-39', '                      50 of 53                  ', '0:39', '1:02:40'], ['173', '1232', '                      WAYNE MURPHY                  ', 'M', '54', '', '', '20:00', '1:02:01', '                      73 of 78                  ', 'M 40-54', '                      26 of 27                  ', '0:29', '1:02:30'], ['174', '1256', '                      NICOLE GARCIA                  ', 'F', '37', 'PORTLAND', 'OR', '20:00', '1:02:03', '                      101 of 113                  ', 'F 21-39', '                      51 of 53                  ', '0:26', '1:02:29'], ['175', '1193', '                      SHEILA RANDALL                  ', 'F', '47', 'PORTLAND', 'OR', '20:01', '1:02:03', '                      102 of 113                  ', 'F 40-54', '                      31 of 37                  ', '0:39', '1:02:42'], ['176', '1171', '                      NEAL BROWN                  ', 'M', '36', 'PORTLAND', 'OR', '20:06', '1:02:19', '                      74 of 78                  ', 'M 21-39', '                      30 of 33                  ', '0:15', '1:02:34'], ['177', '1257', '                      JOSE GARCIA                  ', 'M', '38', 'PORTLAND', 'OR', '20:07', '1:02:24', '                      75 of 78                  ', 'M 21-39', '                      31 of 33                  ', '0:26', '1:02:50'], ['178', '1099', '                      CARLOS BANKS                  ', 'M', '40', 'PORTLAND', 'OR', '20:14', '1:02:45', '                      76 of 78                  ', 'M 40-54', '                      27 of 27                  ', '0:14', '1:02:59'], ['179', '1220', '                      LISA CHURCH                  ', 'F', '44', 'RIDGEFIELD', 'WA', '20:14', '1:02:46', '                      103 of 113                  ', 'F 40-54', '                      32 of 37                  ', '0:35', '1:03:21'], ['180', '1221', '                      ELAINE MYRICK                  ', 'F', '50', 'RIDGEFIELD', 'WA', '20:15', '1:02:47', '                      104 of 113                  ', 'F 40-54', '                      33 of 37                  ', '0:35', '1:03:22'], ['181', '1113', '                      RICHARD LAWSON                  ', 'M', '31', 'HILLSBORO', 'OR', '20:18', '1:02:58', '                      77 of 78                  ', 'M 21-39', '                      32 of 33                  ', '0:29', '1:03:27'], ['182', '1114', '                      TRISHA HUTESON                  ', 'F', '46', 'VANCOUVER', 'WA', '20:20', '1:03:04', '                      105 of 113                  ', 'F 40-54', '                      34 of 37                  ', '0:24', '1:03:28'], ['183', '1240', '                      GEANIE ROBINSON                  ', 'F', '60', '', '', '20:46', '1:04:23', '                      106 of 113                  ', 'F 55+', '                      12 of 14                  ', '0:32', '1:04:55'], ['184', '1098', '                      MICHELLE HOFFMAN                  ', 'F', '46', 'EVERETT', 'WA', '20:59', '1:05:03', '                      107 of 113                  ', 'F 40-54', '                      35 of 37                  ', '0:30', '1:05:33'], ['185', '1119', '                      SANDY PAGE                  ', 'F', '66', 'PORTLAND', 'OR', '20:59', '1:05:04', '                      108 of 113                  ', 'F 55+', '                      13 of 14                  ', '0:30', '1:05:34'], ['186', '1116', '                      CHRISTINA TURNER                  ', 'F', '39', 'PORTLAND', 'OR', '21:01', '1:05:09', '                      109 of 113                  ', 'F 21-39', '                      52 of 53                  ', '0:28', '1:05:37'], ['187', '1254', '                      CYNTHIA HARRIS                  ', 'F', '64', 'PORTLAND', 'OR', '21:53', '1:07:51', '                      110 of 113                  ', 'F 55+', '                      14 of 14                  ', '1:19', '1:09:10'], ['188', '1085', '                      EBONY LAWRENCE                  ', 'F', '30', 'PORTLAND', 'OR', '22:00', '1:08:12', '                      111 of 113                  ', 'F 21-39', '                      53 of 53                  ', '0:58', '1:09:10'], ['189', '1170', '                      ANTHONY WILLIAMS                  ', 'M', '39', 'PORTLAND', 'OR', '22:19', '1:09:11', '                      78 of 78                  ', 'M 21-39', '                      33 of 33                  ', '0:08', '1:09:19'], ['190', '2087', '                      LEESHA POSEY                  ', 'F', '43', 'PORTLAND', 'OR', '30:17', '1:33:53', '                      112 of 113                  ', 'F 40-54', '                      36 of 37                  ', '0:00', '1:33:53'], ['191', '1216', '                      ZULMA OCHOA                  ', 'F', '40', 'GRESHAM', 'OR', '33:22', '1:43:27', '                      113 of 113                  ', 'F 40-54', '                      37 of 37                  ', '0:00', '1:43:27']]\n"
     ]
    }
   ],
   "source": [
    "data=[]\n",
    "allrows=soup.find_all('tr')\n",
    "for row in allrows:\n",
    "    rowlist=row.find_all('td')\n",
    "    dataRow=[]\n",
    "    for cell in rowlist:\n",
    "        dataRow.append(cell.text.replace('\\r\\n',' '))      \n",
    "    data.append(dataRow)\n",
    "titles=data[0]\n",
    "data=data[4:]\n",
    "print(data)\n"
   ]
  },
  {
   "cell_type": "code",
   "execution_count": 74,
   "id": "b43c6f47",
   "metadata": {},
   "outputs": [
    {
     "name": "stdout",
     "output_type": "stream",
     "text": [
      "       0     1                                                  2     3   \\\n",
      "0    None  None                                               None  None   \n",
      "1       1  1191                        MAX RANDOLPH            ...     M   \n",
      "2       2  1080                        NEED NAME KAISER RUNNER ...     M   \n",
      "3       3  1275                        DAN FRANEK              ...     M   \n",
      "4       4  1223                        PAUL TAYLOR             ...     M   \n",
      "..    ...   ...                                                ...   ...   \n",
      "187   187  1254                        CYNTHIA HARRIS          ...     F   \n",
      "188   188  1085                        EBONY LAWRENCE          ...     F   \n",
      "189   189  1170                        ANTHONY WILLIAMS        ...     M   \n",
      "190   190  2087                        LEESHA POSEY            ...     F   \n",
      "191   191  1216                        ZULMA OCHOA             ...     F   \n",
      "\n",
      "       4           5     6      7        8   \\\n",
      "0    None        None  None   None     None   \n",
      "1      29  WASHINGTON    DC   5:25    16:48   \n",
      "2      25    PORTLAND    OR   5:39    17:31   \n",
      "3      52    PORTLAND    OR   5:53    18:15   \n",
      "4      54    PORTLAND    OR   5:58    18:31   \n",
      "..    ...         ...   ...    ...      ...   \n",
      "187    64    PORTLAND    OR  21:53  1:07:51   \n",
      "188    30    PORTLAND    OR  22:00  1:08:12   \n",
      "189    39    PORTLAND    OR  22:19  1:09:11   \n",
      "190    43    PORTLAND    OR  30:17  1:33:53   \n",
      "191    40     GRESHAM    OR  33:22  1:43:27   \n",
      "\n",
      "                                                    9        10  \\\n",
      "0                                                 None     None   \n",
      "1                            1 of 78                    M 21-39   \n",
      "2                            2 of 78                    M 21-39   \n",
      "3                            3 of 78                    M 40-54   \n",
      "4                            4 of 78                    M 40-54   \n",
      "..                                                 ...      ...   \n",
      "187                        110 of 113              ...    F 55+   \n",
      "188                        111 of 113              ...  F 21-39   \n",
      "189                         78 of 78                    M 21-39   \n",
      "190                        112 of 113              ...  F 40-54   \n",
      "191                        113 of 113              ...  F 40-54   \n",
      "\n",
      "                                                   11    12       13  \n",
      "0                                                None  None     None  \n",
      "1                           1 of 33                    0:08    16:56  \n",
      "2                           2 of 33                    0:09    17:40  \n",
      "3                           1 of 27                    0:07    18:22  \n",
      "4                           2 of 27                    0:07    18:38  \n",
      "..                                                ...   ...      ...  \n",
      "187                        14 of 14                    1:19  1:09:10  \n",
      "188                        53 of 53                    0:58  1:09:10  \n",
      "189                        33 of 33                    0:08  1:09:19  \n",
      "190                        36 of 37                    0:00  1:33:53  \n",
      "191                        37 of 37                    0:00  1:43:27  \n",
      "\n",
      "[192 rows x 14 columns]\n"
     ]
    }
   ],
   "source": [
    "df=pd.DataFrame(data)\n",
    "print(df)"
   ]
  },
  {
   "cell_type": "code",
   "execution_count": 75,
   "id": "6bed67cb",
   "metadata": {},
   "outputs": [
    {
     "data": {
      "text/plain": [
       "['Place',\n",
       " 'Bib',\n",
       " 'Name',\n",
       " 'Gender',\n",
       " 'Age',\n",
       " 'City',\n",
       " 'State',\n",
       " 'Chip Pace',\n",
       " 'Chip Time',\n",
       " 'Gender Place',\n",
       " 'Age Group',\n",
       " 'Age Group Place',\n",
       " 'Time to Start',\n",
       " 'Gun Time']"
      ]
     },
     "execution_count": 75,
     "metadata": {},
     "output_type": "execute_result"
    }
   ],
   "source": [
    "header_list=[]\n",
    "col_headers=soup.find_all('th')\n",
    "for col_header in col_headers:\n",
    "    header_list.append(col_header.text)\n",
    "header_list"
   ]
  },
  {
   "cell_type": "code",
   "execution_count": 76,
   "id": "c04e33fb",
   "metadata": {},
   "outputs": [
    {
     "data": {
      "text/html": [
       "<div>\n",
       "<style scoped>\n",
       "    .dataframe tbody tr th:only-of-type {\n",
       "        vertical-align: middle;\n",
       "    }\n",
       "\n",
       "    .dataframe tbody tr th {\n",
       "        vertical-align: top;\n",
       "    }\n",
       "\n",
       "    .dataframe thead th {\n",
       "        text-align: right;\n",
       "    }\n",
       "</style>\n",
       "<table border=\"1\" class=\"dataframe\">\n",
       "  <thead>\n",
       "    <tr style=\"text-align: right;\">\n",
       "      <th></th>\n",
       "      <th>Place</th>\n",
       "      <th>Bib</th>\n",
       "      <th>Name</th>\n",
       "      <th>Gender</th>\n",
       "      <th>Age</th>\n",
       "      <th>City</th>\n",
       "      <th>State</th>\n",
       "      <th>Chip Pace</th>\n",
       "      <th>Chip Time</th>\n",
       "      <th>Gender Place</th>\n",
       "      <th>Age Group</th>\n",
       "      <th>Age Group Place</th>\n",
       "      <th>Time to Start</th>\n",
       "      <th>Gun Time</th>\n",
       "    </tr>\n",
       "  </thead>\n",
       "  <tbody>\n",
       "    <tr>\n",
       "      <th>0</th>\n",
       "      <td>None</td>\n",
       "      <td>None</td>\n",
       "      <td>None</td>\n",
       "      <td>None</td>\n",
       "      <td>None</td>\n",
       "      <td>None</td>\n",
       "      <td>None</td>\n",
       "      <td>None</td>\n",
       "      <td>None</td>\n",
       "      <td>None</td>\n",
       "      <td>None</td>\n",
       "      <td>None</td>\n",
       "      <td>None</td>\n",
       "      <td>None</td>\n",
       "    </tr>\n",
       "    <tr>\n",
       "      <th>1</th>\n",
       "      <td>1</td>\n",
       "      <td>1191</td>\n",
       "      <td>MAX RANDOLPH            ...</td>\n",
       "      <td>M</td>\n",
       "      <td>29</td>\n",
       "      <td>WASHINGTON</td>\n",
       "      <td>DC</td>\n",
       "      <td>5:25</td>\n",
       "      <td>16:48</td>\n",
       "      <td>1 of 78</td>\n",
       "      <td>M 21-39</td>\n",
       "      <td>1 of 33</td>\n",
       "      <td>0:08</td>\n",
       "      <td>16:56</td>\n",
       "    </tr>\n",
       "    <tr>\n",
       "      <th>2</th>\n",
       "      <td>2</td>\n",
       "      <td>1080</td>\n",
       "      <td>NEED NAME KAISER RUNNER ...</td>\n",
       "      <td>M</td>\n",
       "      <td>25</td>\n",
       "      <td>PORTLAND</td>\n",
       "      <td>OR</td>\n",
       "      <td>5:39</td>\n",
       "      <td>17:31</td>\n",
       "      <td>2 of 78</td>\n",
       "      <td>M 21-39</td>\n",
       "      <td>2 of 33</td>\n",
       "      <td>0:09</td>\n",
       "      <td>17:40</td>\n",
       "    </tr>\n",
       "    <tr>\n",
       "      <th>3</th>\n",
       "      <td>3</td>\n",
       "      <td>1275</td>\n",
       "      <td>DAN FRANEK              ...</td>\n",
       "      <td>M</td>\n",
       "      <td>52</td>\n",
       "      <td>PORTLAND</td>\n",
       "      <td>OR</td>\n",
       "      <td>5:53</td>\n",
       "      <td>18:15</td>\n",
       "      <td>3 of 78</td>\n",
       "      <td>M 40-54</td>\n",
       "      <td>1 of 27</td>\n",
       "      <td>0:07</td>\n",
       "      <td>18:22</td>\n",
       "    </tr>\n",
       "    <tr>\n",
       "      <th>4</th>\n",
       "      <td>4</td>\n",
       "      <td>1223</td>\n",
       "      <td>PAUL TAYLOR             ...</td>\n",
       "      <td>M</td>\n",
       "      <td>54</td>\n",
       "      <td>PORTLAND</td>\n",
       "      <td>OR</td>\n",
       "      <td>5:58</td>\n",
       "      <td>18:31</td>\n",
       "      <td>4 of 78</td>\n",
       "      <td>M 40-54</td>\n",
       "      <td>2 of 27</td>\n",
       "      <td>0:07</td>\n",
       "      <td>18:38</td>\n",
       "    </tr>\n",
       "    <tr>\n",
       "      <th>...</th>\n",
       "      <td>...</td>\n",
       "      <td>...</td>\n",
       "      <td>...</td>\n",
       "      <td>...</td>\n",
       "      <td>...</td>\n",
       "      <td>...</td>\n",
       "      <td>...</td>\n",
       "      <td>...</td>\n",
       "      <td>...</td>\n",
       "      <td>...</td>\n",
       "      <td>...</td>\n",
       "      <td>...</td>\n",
       "      <td>...</td>\n",
       "      <td>...</td>\n",
       "    </tr>\n",
       "    <tr>\n",
       "      <th>187</th>\n",
       "      <td>187</td>\n",
       "      <td>1254</td>\n",
       "      <td>CYNTHIA HARRIS          ...</td>\n",
       "      <td>F</td>\n",
       "      <td>64</td>\n",
       "      <td>PORTLAND</td>\n",
       "      <td>OR</td>\n",
       "      <td>21:53</td>\n",
       "      <td>1:07:51</td>\n",
       "      <td>110 of 113              ...</td>\n",
       "      <td>F 55+</td>\n",
       "      <td>14 of 14</td>\n",
       "      <td>1:19</td>\n",
       "      <td>1:09:10</td>\n",
       "    </tr>\n",
       "    <tr>\n",
       "      <th>188</th>\n",
       "      <td>188</td>\n",
       "      <td>1085</td>\n",
       "      <td>EBONY LAWRENCE          ...</td>\n",
       "      <td>F</td>\n",
       "      <td>30</td>\n",
       "      <td>PORTLAND</td>\n",
       "      <td>OR</td>\n",
       "      <td>22:00</td>\n",
       "      <td>1:08:12</td>\n",
       "      <td>111 of 113              ...</td>\n",
       "      <td>F 21-39</td>\n",
       "      <td>53 of 53</td>\n",
       "      <td>0:58</td>\n",
       "      <td>1:09:10</td>\n",
       "    </tr>\n",
       "    <tr>\n",
       "      <th>189</th>\n",
       "      <td>189</td>\n",
       "      <td>1170</td>\n",
       "      <td>ANTHONY WILLIAMS        ...</td>\n",
       "      <td>M</td>\n",
       "      <td>39</td>\n",
       "      <td>PORTLAND</td>\n",
       "      <td>OR</td>\n",
       "      <td>22:19</td>\n",
       "      <td>1:09:11</td>\n",
       "      <td>78 of 78</td>\n",
       "      <td>M 21-39</td>\n",
       "      <td>33 of 33</td>\n",
       "      <td>0:08</td>\n",
       "      <td>1:09:19</td>\n",
       "    </tr>\n",
       "    <tr>\n",
       "      <th>190</th>\n",
       "      <td>190</td>\n",
       "      <td>2087</td>\n",
       "      <td>LEESHA POSEY            ...</td>\n",
       "      <td>F</td>\n",
       "      <td>43</td>\n",
       "      <td>PORTLAND</td>\n",
       "      <td>OR</td>\n",
       "      <td>30:17</td>\n",
       "      <td>1:33:53</td>\n",
       "      <td>112 of 113              ...</td>\n",
       "      <td>F 40-54</td>\n",
       "      <td>36 of 37</td>\n",
       "      <td>0:00</td>\n",
       "      <td>1:33:53</td>\n",
       "    </tr>\n",
       "    <tr>\n",
       "      <th>191</th>\n",
       "      <td>191</td>\n",
       "      <td>1216</td>\n",
       "      <td>ZULMA OCHOA             ...</td>\n",
       "      <td>F</td>\n",
       "      <td>40</td>\n",
       "      <td>GRESHAM</td>\n",
       "      <td>OR</td>\n",
       "      <td>33:22</td>\n",
       "      <td>1:43:27</td>\n",
       "      <td>113 of 113              ...</td>\n",
       "      <td>F 40-54</td>\n",
       "      <td>37 of 37</td>\n",
       "      <td>0:00</td>\n",
       "      <td>1:43:27</td>\n",
       "    </tr>\n",
       "  </tbody>\n",
       "</table>\n",
       "<p>192 rows × 14 columns</p>\n",
       "</div>"
      ],
      "text/plain": [
       "    Place   Bib                                               Name Gender  \\\n",
       "0    None  None                                               None   None   \n",
       "1       1  1191                        MAX RANDOLPH            ...      M   \n",
       "2       2  1080                        NEED NAME KAISER RUNNER ...      M   \n",
       "3       3  1275                        DAN FRANEK              ...      M   \n",
       "4       4  1223                        PAUL TAYLOR             ...      M   \n",
       "..    ...   ...                                                ...    ...   \n",
       "187   187  1254                        CYNTHIA HARRIS          ...      F   \n",
       "188   188  1085                        EBONY LAWRENCE          ...      F   \n",
       "189   189  1170                        ANTHONY WILLIAMS        ...      M   \n",
       "190   190  2087                        LEESHA POSEY            ...      F   \n",
       "191   191  1216                        ZULMA OCHOA             ...      F   \n",
       "\n",
       "      Age        City State Chip Pace Chip Time  \\\n",
       "0    None        None  None      None      None   \n",
       "1      29  WASHINGTON    DC      5:25     16:48   \n",
       "2      25    PORTLAND    OR      5:39     17:31   \n",
       "3      52    PORTLAND    OR      5:53     18:15   \n",
       "4      54    PORTLAND    OR      5:58     18:31   \n",
       "..    ...         ...   ...       ...       ...   \n",
       "187    64    PORTLAND    OR     21:53   1:07:51   \n",
       "188    30    PORTLAND    OR     22:00   1:08:12   \n",
       "189    39    PORTLAND    OR     22:19   1:09:11   \n",
       "190    43    PORTLAND    OR     30:17   1:33:53   \n",
       "191    40     GRESHAM    OR     33:22   1:43:27   \n",
       "\n",
       "                                          Gender Place Age Group  \\\n",
       "0                                                 None      None   \n",
       "1                            1 of 78                     M 21-39   \n",
       "2                            2 of 78                     M 21-39   \n",
       "3                            3 of 78                     M 40-54   \n",
       "4                            4 of 78                     M 40-54   \n",
       "..                                                 ...       ...   \n",
       "187                        110 of 113              ...     F 55+   \n",
       "188                        111 of 113              ...   F 21-39   \n",
       "189                         78 of 78                     M 21-39   \n",
       "190                        112 of 113              ...   F 40-54   \n",
       "191                        113 of 113              ...   F 40-54   \n",
       "\n",
       "                                      Age Group Place Time to Start Gun Time  \n",
       "0                                                None          None     None  \n",
       "1                           1 of 33                            0:08    16:56  \n",
       "2                           2 of 33                            0:09    17:40  \n",
       "3                           1 of 27                            0:07    18:22  \n",
       "4                           2 of 27                            0:07    18:38  \n",
       "..                                                ...           ...      ...  \n",
       "187                        14 of 14                            1:19  1:09:10  \n",
       "188                        53 of 53                            0:58  1:09:10  \n",
       "189                        33 of 33                            0:08  1:09:19  \n",
       "190                        36 of 37                            0:00  1:33:53  \n",
       "191                        37 of 37                            0:00  1:43:27  \n",
       "\n",
       "[192 rows x 14 columns]"
      ]
     },
     "execution_count": 76,
     "metadata": {},
     "output_type": "execute_result"
    }
   ],
   "source": [
    "df.columns=header_list\n",
    "df"
   ]
  },
  {
   "cell_type": "code",
   "execution_count": 77,
   "id": "9d6acaa2",
   "metadata": {},
   "outputs": [
    {
     "name": "stdout",
     "output_type": "stream",
     "text": [
      "<class 'pandas.core.frame.DataFrame'>\n",
      "RangeIndex: 192 entries, 0 to 191\n",
      "Data columns (total 14 columns):\n",
      " #   Column           Non-Null Count  Dtype \n",
      "---  ------           --------------  ----- \n",
      " 0   Place            191 non-null    object\n",
      " 1   Bib              191 non-null    object\n",
      " 2   Name             191 non-null    object\n",
      " 3   Gender           191 non-null    object\n",
      " 4   Age              191 non-null    object\n",
      " 5   City             191 non-null    object\n",
      " 6   State            191 non-null    object\n",
      " 7   Chip Pace        191 non-null    object\n",
      " 8   Chip Time        191 non-null    object\n",
      " 9   Gender Place     191 non-null    object\n",
      " 10  Age Group        191 non-null    object\n",
      " 11  Age Group Place  191 non-null    object\n",
      " 12  Time to Start    191 non-null    object\n",
      " 13  Gun Time         191 non-null    object\n",
      "dtypes: object(14)\n",
      "memory usage: 21.1+ KB\n"
     ]
    }
   ],
   "source": [
    "df.info()"
   ]
  },
  {
   "cell_type": "code",
   "execution_count": 78,
   "id": "f79870ef",
   "metadata": {},
   "outputs": [
    {
     "data": {
      "text/plain": [
       "(192, 14)"
      ]
     },
     "execution_count": 78,
     "metadata": {},
     "output_type": "execute_result"
    }
   ],
   "source": [
    "df.shape"
   ]
  },
  {
   "cell_type": "code",
   "execution_count": 79,
   "id": "53b32951",
   "metadata": {},
   "outputs": [
    {
     "data": {
      "text/plain": [
       "(191, 14)"
      ]
     },
     "execution_count": 79,
     "metadata": {},
     "output_type": "execute_result"
    }
   ],
   "source": [
    "df2=df.dropna(axis=0,how='any')\n",
    "df2.shape"
   ]
  },
  {
   "cell_type": "code",
   "execution_count": 80,
   "id": "81c8156e",
   "metadata": {},
   "outputs": [
    {
     "ename": "ValueError",
     "evalue": "expected hh:mm:ss format",
     "output_type": "error",
     "traceback": [
      "\u001b[1;31m---------------------------------------------------------------------------\u001b[0m",
      "\u001b[1;31mValueError\u001b[0m                                Traceback (most recent call last)",
      "File \u001b[1;32m~\\anaconda3\\lib\\site-packages\\pandas\\_libs\\tslibs\\timedeltas.pyx:354\u001b[0m, in \u001b[0;36mpandas._libs.tslibs.timedeltas.array_to_timedelta64\u001b[1;34m()\u001b[0m\n",
      "File \u001b[1;32m~\\anaconda3\\lib\\site-packages\\pandas\\_libs\\tslibs\\timedeltas.pyx:514\u001b[0m, in \u001b[0;36mpandas._libs.tslibs.timedeltas.parse_timedelta_string\u001b[1;34m()\u001b[0m\n",
      "\u001b[1;31mValueError\u001b[0m: expected hh:mm:ss format",
      "\nDuring handling of the above exception, another exception occurred:\n",
      "\u001b[1;31mValueError\u001b[0m                                Traceback (most recent call last)",
      "Input \u001b[1;32mIn [80]\u001b[0m, in \u001b[0;36m<cell line: 4>\u001b[1;34m()\u001b[0m\n\u001b[0;32m      1\u001b[0m \u001b[38;5;66;03m# df2['ChipTimeinMinutes']=pd.to_timedelta(df2['Chip Time'])\u001b[39;00m\n\u001b[0;32m      2\u001b[0m \u001b[38;5;66;03m# df2['ChipTimeinMinutes']=df2['ChipTimeinMinutes'].astype('timedelta64[s]')/60\u001b[39;00m\n\u001b[0;32m      3\u001b[0m \u001b[38;5;66;03m# df2['ChipTimeinMinutes'].info()\u001b[39;00m\n\u001b[1;32m----> 4\u001b[0m \u001b[43mpd\u001b[49m\u001b[38;5;241;43m.\u001b[39;49m\u001b[43mto_timedelta\u001b[49m\u001b[43m(\u001b[49m\u001b[43mdf2\u001b[49m\u001b[43m[\u001b[49m\u001b[38;5;124;43m'\u001b[39;49m\u001b[38;5;124;43mChip Time\u001b[39;49m\u001b[38;5;124;43m'\u001b[39;49m\u001b[43m]\u001b[49m\u001b[43m)\u001b[49m\u001b[38;5;241m.\u001b[39mdt\u001b[38;5;241m.\u001b[39mtotal_seconds()\n",
      "File \u001b[1;32m~\\anaconda3\\lib\\site-packages\\pandas\\core\\tools\\timedeltas.py:130\u001b[0m, in \u001b[0;36mto_timedelta\u001b[1;34m(arg, unit, errors)\u001b[0m\n\u001b[0;32m    128\u001b[0m     \u001b[38;5;28;01mreturn\u001b[39;00m arg\n\u001b[0;32m    129\u001b[0m \u001b[38;5;28;01melif\u001b[39;00m \u001b[38;5;28misinstance\u001b[39m(arg, ABCSeries):\n\u001b[1;32m--> 130\u001b[0m     values \u001b[38;5;241m=\u001b[39m \u001b[43m_convert_listlike\u001b[49m\u001b[43m(\u001b[49m\u001b[43marg\u001b[49m\u001b[38;5;241;43m.\u001b[39;49m\u001b[43m_values\u001b[49m\u001b[43m,\u001b[49m\u001b[43m \u001b[49m\u001b[43munit\u001b[49m\u001b[38;5;241;43m=\u001b[39;49m\u001b[43munit\u001b[49m\u001b[43m,\u001b[49m\u001b[43m \u001b[49m\u001b[43merrors\u001b[49m\u001b[38;5;241;43m=\u001b[39;49m\u001b[43merrors\u001b[49m\u001b[43m)\u001b[49m\n\u001b[0;32m    131\u001b[0m     \u001b[38;5;28;01mreturn\u001b[39;00m arg\u001b[38;5;241m.\u001b[39m_constructor(values, index\u001b[38;5;241m=\u001b[39marg\u001b[38;5;241m.\u001b[39mindex, name\u001b[38;5;241m=\u001b[39marg\u001b[38;5;241m.\u001b[39mname)\n\u001b[0;32m    132\u001b[0m \u001b[38;5;28;01melif\u001b[39;00m \u001b[38;5;28misinstance\u001b[39m(arg, ABCIndex):\n",
      "File \u001b[1;32m~\\anaconda3\\lib\\site-packages\\pandas\\core\\tools\\timedeltas.py:179\u001b[0m, in \u001b[0;36m_convert_listlike\u001b[1;34m(arg, unit, errors, name)\u001b[0m\n\u001b[0;32m    176\u001b[0m     arg \u001b[38;5;241m=\u001b[39m np\u001b[38;5;241m.\u001b[39marray(\u001b[38;5;28mlist\u001b[39m(arg), dtype\u001b[38;5;241m=\u001b[39m\u001b[38;5;28mobject\u001b[39m)\n\u001b[0;32m    178\u001b[0m \u001b[38;5;28;01mtry\u001b[39;00m:\n\u001b[1;32m--> 179\u001b[0m     td64arr \u001b[38;5;241m=\u001b[39m \u001b[43msequence_to_td64ns\u001b[49m\u001b[43m(\u001b[49m\u001b[43marg\u001b[49m\u001b[43m,\u001b[49m\u001b[43m \u001b[49m\u001b[43munit\u001b[49m\u001b[38;5;241;43m=\u001b[39;49m\u001b[43munit\u001b[49m\u001b[43m,\u001b[49m\u001b[43m \u001b[49m\u001b[43merrors\u001b[49m\u001b[38;5;241;43m=\u001b[39;49m\u001b[43merrors\u001b[49m\u001b[43m,\u001b[49m\u001b[43m \u001b[49m\u001b[43mcopy\u001b[49m\u001b[38;5;241;43m=\u001b[39;49m\u001b[38;5;28;43;01mFalse\u001b[39;49;00m\u001b[43m)\u001b[49m[\u001b[38;5;241m0\u001b[39m]\n\u001b[0;32m    180\u001b[0m \u001b[38;5;28;01mexcept\u001b[39;00m \u001b[38;5;167;01mValueError\u001b[39;00m:\n\u001b[0;32m    181\u001b[0m     \u001b[38;5;28;01mif\u001b[39;00m errors \u001b[38;5;241m==\u001b[39m \u001b[38;5;124m\"\u001b[39m\u001b[38;5;124mignore\u001b[39m\u001b[38;5;124m\"\u001b[39m:\n",
      "File \u001b[1;32m~\\anaconda3\\lib\\site-packages\\pandas\\core\\arrays\\timedeltas.py:1001\u001b[0m, in \u001b[0;36msequence_to_td64ns\u001b[1;34m(data, copy, unit, errors)\u001b[0m\n\u001b[0;32m    998\u001b[0m \u001b[38;5;66;03m# Convert whatever we have into timedelta64[ns] dtype\u001b[39;00m\n\u001b[0;32m    999\u001b[0m \u001b[38;5;28;01mif\u001b[39;00m is_object_dtype(data\u001b[38;5;241m.\u001b[39mdtype) \u001b[38;5;129;01mor\u001b[39;00m is_string_dtype(data\u001b[38;5;241m.\u001b[39mdtype):\n\u001b[0;32m   1000\u001b[0m     \u001b[38;5;66;03m# no need to make a copy, need to convert if string-dtyped\u001b[39;00m\n\u001b[1;32m-> 1001\u001b[0m     data \u001b[38;5;241m=\u001b[39m \u001b[43mobjects_to_td64ns\u001b[49m\u001b[43m(\u001b[49m\u001b[43mdata\u001b[49m\u001b[43m,\u001b[49m\u001b[43m \u001b[49m\u001b[43munit\u001b[49m\u001b[38;5;241;43m=\u001b[39;49m\u001b[43munit\u001b[49m\u001b[43m,\u001b[49m\u001b[43m \u001b[49m\u001b[43merrors\u001b[49m\u001b[38;5;241;43m=\u001b[39;49m\u001b[43merrors\u001b[49m\u001b[43m)\u001b[49m\n\u001b[0;32m   1002\u001b[0m     copy \u001b[38;5;241m=\u001b[39m \u001b[38;5;28;01mFalse\u001b[39;00m\n\u001b[0;32m   1004\u001b[0m \u001b[38;5;28;01melif\u001b[39;00m is_integer_dtype(data\u001b[38;5;241m.\u001b[39mdtype):\n\u001b[0;32m   1005\u001b[0m     \u001b[38;5;66;03m# treat as multiples of the given unit\u001b[39;00m\n",
      "File \u001b[1;32m~\\anaconda3\\lib\\site-packages\\pandas\\core\\arrays\\timedeltas.py:1110\u001b[0m, in \u001b[0;36mobjects_to_td64ns\u001b[1;34m(data, unit, errors)\u001b[0m\n\u001b[0;32m   1107\u001b[0m \u001b[38;5;66;03m# coerce Index to np.ndarray, converting string-dtype if necessary\u001b[39;00m\n\u001b[0;32m   1108\u001b[0m values \u001b[38;5;241m=\u001b[39m np\u001b[38;5;241m.\u001b[39marray(data, dtype\u001b[38;5;241m=\u001b[39mnp\u001b[38;5;241m.\u001b[39mobject_, copy\u001b[38;5;241m=\u001b[39m\u001b[38;5;28;01mFalse\u001b[39;00m)\n\u001b[1;32m-> 1110\u001b[0m result \u001b[38;5;241m=\u001b[39m \u001b[43marray_to_timedelta64\u001b[49m\u001b[43m(\u001b[49m\u001b[43mvalues\u001b[49m\u001b[43m,\u001b[49m\u001b[43m \u001b[49m\u001b[43munit\u001b[49m\u001b[38;5;241;43m=\u001b[39;49m\u001b[43munit\u001b[49m\u001b[43m,\u001b[49m\u001b[43m \u001b[49m\u001b[43merrors\u001b[49m\u001b[38;5;241;43m=\u001b[39;49m\u001b[43merrors\u001b[49m\u001b[43m)\u001b[49m\n\u001b[0;32m   1111\u001b[0m \u001b[38;5;28;01mreturn\u001b[39;00m result\u001b[38;5;241m.\u001b[39mview(\u001b[38;5;124m\"\u001b[39m\u001b[38;5;124mtimedelta64[ns]\u001b[39m\u001b[38;5;124m\"\u001b[39m)\n",
      "File \u001b[1;32m~\\anaconda3\\lib\\site-packages\\pandas\\_libs\\tslibs\\timedeltas.pyx:368\u001b[0m, in \u001b[0;36mpandas._libs.tslibs.timedeltas.array_to_timedelta64\u001b[1;34m()\u001b[0m\n",
      "File \u001b[1;32m~\\anaconda3\\lib\\site-packages\\pandas\\_libs\\tslibs\\timedeltas.pyx:359\u001b[0m, in \u001b[0;36mpandas._libs.tslibs.timedeltas.array_to_timedelta64\u001b[1;34m()\u001b[0m\n",
      "File \u001b[1;32m~\\anaconda3\\lib\\site-packages\\pandas\\_libs\\tslibs\\timedeltas.pyx:300\u001b[0m, in \u001b[0;36mpandas._libs.tslibs.timedeltas.convert_to_timedelta64\u001b[1;34m()\u001b[0m\n",
      "File \u001b[1;32m~\\anaconda3\\lib\\site-packages\\pandas\\_libs\\tslibs\\timedeltas.pyx:514\u001b[0m, in \u001b[0;36mpandas._libs.tslibs.timedeltas.parse_timedelta_string\u001b[1;34m()\u001b[0m\n",
      "\u001b[1;31mValueError\u001b[0m: expected hh:mm:ss format"
     ]
    }
   ],
   "source": [
    "# df2['ChipTimeinMinutes']=pd.to_timedelta(df2['Chip Time'])\n",
    "# df2['ChipTimeinMinutes']=df2['ChipTimeinMinutes'].astype('timedelta64[s]')/60\n",
    "# df2['ChipTimeinMinutes'].info()\n",
    "pd.to_timedelta(df2['Chip Time']).dt.total_seconds()"
   ]
  },
  {
   "cell_type": "code",
   "execution_count": 81,
   "id": "4d860e18",
   "metadata": {},
   "outputs": [
    {
     "ename": "KeyError",
     "evalue": "'ChipTimeinMinutes'",
     "output_type": "error",
     "traceback": [
      "\u001b[1;31m---------------------------------------------------------------------------\u001b[0m",
      "\u001b[1;31mKeyError\u001b[0m                                  Traceback (most recent call last)",
      "File \u001b[1;32m~\\anaconda3\\lib\\site-packages\\pandas\\core\\indexes\\base.py:3621\u001b[0m, in \u001b[0;36mIndex.get_loc\u001b[1;34m(self, key, method, tolerance)\u001b[0m\n\u001b[0;32m   3620\u001b[0m \u001b[38;5;28;01mtry\u001b[39;00m:\n\u001b[1;32m-> 3621\u001b[0m     \u001b[38;5;28;01mreturn\u001b[39;00m \u001b[38;5;28;43mself\u001b[39;49m\u001b[38;5;241;43m.\u001b[39;49m\u001b[43m_engine\u001b[49m\u001b[38;5;241;43m.\u001b[39;49m\u001b[43mget_loc\u001b[49m\u001b[43m(\u001b[49m\u001b[43mcasted_key\u001b[49m\u001b[43m)\u001b[49m\n\u001b[0;32m   3622\u001b[0m \u001b[38;5;28;01mexcept\u001b[39;00m \u001b[38;5;167;01mKeyError\u001b[39;00m \u001b[38;5;28;01mas\u001b[39;00m err:\n",
      "File \u001b[1;32m~\\anaconda3\\lib\\site-packages\\pandas\\_libs\\index.pyx:136\u001b[0m, in \u001b[0;36mpandas._libs.index.IndexEngine.get_loc\u001b[1;34m()\u001b[0m\n",
      "File \u001b[1;32m~\\anaconda3\\lib\\site-packages\\pandas\\_libs\\index.pyx:163\u001b[0m, in \u001b[0;36mpandas._libs.index.IndexEngine.get_loc\u001b[1;34m()\u001b[0m\n",
      "File \u001b[1;32mpandas\\_libs\\hashtable_class_helper.pxi:5198\u001b[0m, in \u001b[0;36mpandas._libs.hashtable.PyObjectHashTable.get_item\u001b[1;34m()\u001b[0m\n",
      "File \u001b[1;32mpandas\\_libs\\hashtable_class_helper.pxi:5206\u001b[0m, in \u001b[0;36mpandas._libs.hashtable.PyObjectHashTable.get_item\u001b[1;34m()\u001b[0m\n",
      "\u001b[1;31mKeyError\u001b[0m: 'ChipTimeinMinutes'",
      "\nThe above exception was the direct cause of the following exception:\n",
      "\u001b[1;31mKeyError\u001b[0m                                  Traceback (most recent call last)",
      "Input \u001b[1;32mIn [81]\u001b[0m, in \u001b[0;36m<cell line: 1>\u001b[1;34m()\u001b[0m\n\u001b[1;32m----> 1\u001b[0m plt\u001b[38;5;241m.\u001b[39mbar(df2[\u001b[38;5;124m'\u001b[39m\u001b[38;5;124mGender\u001b[39m\u001b[38;5;124m'\u001b[39m],\u001b[43mdf2\u001b[49m\u001b[43m[\u001b[49m\u001b[38;5;124;43m'\u001b[39;49m\u001b[38;5;124;43mChipTimeinMinutes\u001b[39;49m\u001b[38;5;124;43m'\u001b[39;49m\u001b[43m]\u001b[49m)\n\u001b[0;32m      2\u001b[0m plt\u001b[38;5;241m.\u001b[39mxlabel(\u001b[38;5;124m'\u001b[39m\u001b[38;5;124mGender\u001b[39m\u001b[38;5;124m'\u001b[39m)\n\u001b[0;32m      3\u001b[0m plt\u001b[38;5;241m.\u001b[39mylabel(\u001b[38;5;124m'\u001b[39m\u001b[38;5;124mChipTimeinMinutes\u001b[39m\u001b[38;5;124m'\u001b[39m)\n",
      "File \u001b[1;32m~\\anaconda3\\lib\\site-packages\\pandas\\core\\frame.py:3505\u001b[0m, in \u001b[0;36mDataFrame.__getitem__\u001b[1;34m(self, key)\u001b[0m\n\u001b[0;32m   3503\u001b[0m \u001b[38;5;28;01mif\u001b[39;00m \u001b[38;5;28mself\u001b[39m\u001b[38;5;241m.\u001b[39mcolumns\u001b[38;5;241m.\u001b[39mnlevels \u001b[38;5;241m>\u001b[39m \u001b[38;5;241m1\u001b[39m:\n\u001b[0;32m   3504\u001b[0m     \u001b[38;5;28;01mreturn\u001b[39;00m \u001b[38;5;28mself\u001b[39m\u001b[38;5;241m.\u001b[39m_getitem_multilevel(key)\n\u001b[1;32m-> 3505\u001b[0m indexer \u001b[38;5;241m=\u001b[39m \u001b[38;5;28;43mself\u001b[39;49m\u001b[38;5;241;43m.\u001b[39;49m\u001b[43mcolumns\u001b[49m\u001b[38;5;241;43m.\u001b[39;49m\u001b[43mget_loc\u001b[49m\u001b[43m(\u001b[49m\u001b[43mkey\u001b[49m\u001b[43m)\u001b[49m\n\u001b[0;32m   3506\u001b[0m \u001b[38;5;28;01mif\u001b[39;00m is_integer(indexer):\n\u001b[0;32m   3507\u001b[0m     indexer \u001b[38;5;241m=\u001b[39m [indexer]\n",
      "File \u001b[1;32m~\\anaconda3\\lib\\site-packages\\pandas\\core\\indexes\\base.py:3623\u001b[0m, in \u001b[0;36mIndex.get_loc\u001b[1;34m(self, key, method, tolerance)\u001b[0m\n\u001b[0;32m   3621\u001b[0m     \u001b[38;5;28;01mreturn\u001b[39;00m \u001b[38;5;28mself\u001b[39m\u001b[38;5;241m.\u001b[39m_engine\u001b[38;5;241m.\u001b[39mget_loc(casted_key)\n\u001b[0;32m   3622\u001b[0m \u001b[38;5;28;01mexcept\u001b[39;00m \u001b[38;5;167;01mKeyError\u001b[39;00m \u001b[38;5;28;01mas\u001b[39;00m err:\n\u001b[1;32m-> 3623\u001b[0m     \u001b[38;5;28;01mraise\u001b[39;00m \u001b[38;5;167;01mKeyError\u001b[39;00m(key) \u001b[38;5;28;01mfrom\u001b[39;00m \u001b[38;5;21;01merr\u001b[39;00m\n\u001b[0;32m   3624\u001b[0m \u001b[38;5;28;01mexcept\u001b[39;00m \u001b[38;5;167;01mTypeError\u001b[39;00m:\n\u001b[0;32m   3625\u001b[0m     \u001b[38;5;66;03m# If we have a listlike key, _check_indexing_error will raise\u001b[39;00m\n\u001b[0;32m   3626\u001b[0m     \u001b[38;5;66;03m#  InvalidIndexError. Otherwise we fall through and re-raise\u001b[39;00m\n\u001b[0;32m   3627\u001b[0m     \u001b[38;5;66;03m#  the TypeError.\u001b[39;00m\n\u001b[0;32m   3628\u001b[0m     \u001b[38;5;28mself\u001b[39m\u001b[38;5;241m.\u001b[39m_check_indexing_error(key)\n",
      "\u001b[1;31mKeyError\u001b[0m: 'ChipTimeinMinutes'"
     ]
    }
   ],
   "source": [
    "plt.bar(df2['Gender'],df2['ChipTimeinMinutes'])\n",
    "plt.xlabel('Gender')\n",
    "plt.ylabel('ChipTimeinMinutes')\n",
    "plt.title(\"Comparison of average minutes run by females and males\")"
   ]
  },
  {
   "cell_type": "code",
   "execution_count": 82,
   "id": "6ab74065",
   "metadata": {},
   "outputs": [
    {
     "ename": "ValueError",
     "evalue": "No objects to concatenate",
     "output_type": "error",
     "traceback": [
      "\u001b[1;31m---------------------------------------------------------------------------\u001b[0m",
      "\u001b[1;31mValueError\u001b[0m                                Traceback (most recent call last)",
      "Input \u001b[1;32mIn [82]\u001b[0m, in \u001b[0;36m<cell line: 1>\u001b[1;34m()\u001b[0m\n\u001b[1;32m----> 1\u001b[0m \u001b[43mdf2\u001b[49m\u001b[38;5;241;43m.\u001b[39;49m\u001b[43mdescribe\u001b[49m\u001b[43m(\u001b[49m\u001b[43minclude\u001b[49m\u001b[38;5;241;43m=\u001b[39;49m\u001b[43m[\u001b[49m\u001b[43mnp\u001b[49m\u001b[38;5;241;43m.\u001b[39;49m\u001b[43mnumber\u001b[49m\u001b[43m]\u001b[49m\u001b[43m)\u001b[49m\n",
      "File \u001b[1;32m~\\anaconda3\\lib\\site-packages\\pandas\\core\\generic.py:10225\u001b[0m, in \u001b[0;36mNDFrame.describe\u001b[1;34m(self, percentiles, include, exclude, datetime_is_numeric)\u001b[0m\n\u001b[0;32m   9976\u001b[0m \u001b[38;5;129m@final\u001b[39m\n\u001b[0;32m   9977\u001b[0m \u001b[38;5;28;01mdef\u001b[39;00m \u001b[38;5;21mdescribe\u001b[39m(\n\u001b[0;32m   9978\u001b[0m     \u001b[38;5;28mself\u001b[39m: NDFrameT,\n\u001b[1;32m   (...)\u001b[0m\n\u001b[0;32m   9982\u001b[0m     datetime_is_numeric\u001b[38;5;241m=\u001b[39m\u001b[38;5;28;01mFalse\u001b[39;00m,\n\u001b[0;32m   9983\u001b[0m ) \u001b[38;5;241m-\u001b[39m\u001b[38;5;241m>\u001b[39m NDFrameT:\n\u001b[0;32m   9984\u001b[0m     \u001b[38;5;124;03m\"\"\"\u001b[39;00m\n\u001b[0;32m   9985\u001b[0m \u001b[38;5;124;03m    Generate descriptive statistics.\u001b[39;00m\n\u001b[0;32m   9986\u001b[0m \n\u001b[1;32m   (...)\u001b[0m\n\u001b[0;32m  10223\u001b[0m \u001b[38;5;124;03m    max            NaN      3.0\u001b[39;00m\n\u001b[0;32m  10224\u001b[0m \u001b[38;5;124;03m    \"\"\"\u001b[39;00m\n\u001b[1;32m> 10225\u001b[0m     \u001b[38;5;28;01mreturn\u001b[39;00m \u001b[43mdescribe_ndframe\u001b[49m\u001b[43m(\u001b[49m\n\u001b[0;32m  10226\u001b[0m \u001b[43m        \u001b[49m\u001b[43mobj\u001b[49m\u001b[38;5;241;43m=\u001b[39;49m\u001b[38;5;28;43mself\u001b[39;49m\u001b[43m,\u001b[49m\n\u001b[0;32m  10227\u001b[0m \u001b[43m        \u001b[49m\u001b[43minclude\u001b[49m\u001b[38;5;241;43m=\u001b[39;49m\u001b[43minclude\u001b[49m\u001b[43m,\u001b[49m\n\u001b[0;32m  10228\u001b[0m \u001b[43m        \u001b[49m\u001b[43mexclude\u001b[49m\u001b[38;5;241;43m=\u001b[39;49m\u001b[43mexclude\u001b[49m\u001b[43m,\u001b[49m\n\u001b[0;32m  10229\u001b[0m \u001b[43m        \u001b[49m\u001b[43mdatetime_is_numeric\u001b[49m\u001b[38;5;241;43m=\u001b[39;49m\u001b[43mdatetime_is_numeric\u001b[49m\u001b[43m,\u001b[49m\n\u001b[0;32m  10230\u001b[0m \u001b[43m        \u001b[49m\u001b[43mpercentiles\u001b[49m\u001b[38;5;241;43m=\u001b[39;49m\u001b[43mpercentiles\u001b[49m\u001b[43m,\u001b[49m\n\u001b[0;32m  10231\u001b[0m \u001b[43m    \u001b[49m\u001b[43m)\u001b[49m\n",
      "File \u001b[1;32m~\\anaconda3\\lib\\site-packages\\pandas\\core\\describe.py:94\u001b[0m, in \u001b[0;36mdescribe_ndframe\u001b[1;34m(obj, include, exclude, datetime_is_numeric, percentiles)\u001b[0m\n\u001b[0;32m     86\u001b[0m \u001b[38;5;28;01melse\u001b[39;00m:\n\u001b[0;32m     87\u001b[0m     describer \u001b[38;5;241m=\u001b[39m DataFrameDescriber(\n\u001b[0;32m     88\u001b[0m         obj\u001b[38;5;241m=\u001b[39mcast(\u001b[38;5;124m\"\u001b[39m\u001b[38;5;124mDataFrame\u001b[39m\u001b[38;5;124m\"\u001b[39m, obj),\n\u001b[0;32m     89\u001b[0m         include\u001b[38;5;241m=\u001b[39minclude,\n\u001b[0;32m     90\u001b[0m         exclude\u001b[38;5;241m=\u001b[39mexclude,\n\u001b[0;32m     91\u001b[0m         datetime_is_numeric\u001b[38;5;241m=\u001b[39mdatetime_is_numeric,\n\u001b[0;32m     92\u001b[0m     )\n\u001b[1;32m---> 94\u001b[0m result \u001b[38;5;241m=\u001b[39m \u001b[43mdescriber\u001b[49m\u001b[38;5;241;43m.\u001b[39;49m\u001b[43mdescribe\u001b[49m\u001b[43m(\u001b[49m\u001b[43mpercentiles\u001b[49m\u001b[38;5;241;43m=\u001b[39;49m\u001b[43mpercentiles\u001b[49m\u001b[43m)\u001b[49m\n\u001b[0;32m     95\u001b[0m \u001b[38;5;28;01mreturn\u001b[39;00m cast(NDFrameT, result)\n",
      "File \u001b[1;32m~\\anaconda3\\lib\\site-packages\\pandas\\core\\describe.py:177\u001b[0m, in \u001b[0;36mDataFrameDescriber.describe\u001b[1;34m(self, percentiles)\u001b[0m\n\u001b[0;32m    174\u001b[0m     ldesc\u001b[38;5;241m.\u001b[39mappend(describe_func(series, percentiles))\n\u001b[0;32m    176\u001b[0m col_names \u001b[38;5;241m=\u001b[39m reorder_columns(ldesc)\n\u001b[1;32m--> 177\u001b[0m d \u001b[38;5;241m=\u001b[39m \u001b[43mconcat\u001b[49m\u001b[43m(\u001b[49m\n\u001b[0;32m    178\u001b[0m \u001b[43m    \u001b[49m\u001b[43m[\u001b[49m\u001b[43mx\u001b[49m\u001b[38;5;241;43m.\u001b[39;49m\u001b[43mreindex\u001b[49m\u001b[43m(\u001b[49m\u001b[43mcol_names\u001b[49m\u001b[43m,\u001b[49m\u001b[43m \u001b[49m\u001b[43mcopy\u001b[49m\u001b[38;5;241;43m=\u001b[39;49m\u001b[38;5;28;43;01mFalse\u001b[39;49;00m\u001b[43m)\u001b[49m\u001b[43m \u001b[49m\u001b[38;5;28;43;01mfor\u001b[39;49;00m\u001b[43m \u001b[49m\u001b[43mx\u001b[49m\u001b[43m \u001b[49m\u001b[38;5;129;43;01min\u001b[39;49;00m\u001b[43m \u001b[49m\u001b[43mldesc\u001b[49m\u001b[43m]\u001b[49m\u001b[43m,\u001b[49m\n\u001b[0;32m    179\u001b[0m \u001b[43m    \u001b[49m\u001b[43maxis\u001b[49m\u001b[38;5;241;43m=\u001b[39;49m\u001b[38;5;241;43m1\u001b[39;49m\u001b[43m,\u001b[49m\n\u001b[0;32m    180\u001b[0m \u001b[43m    \u001b[49m\u001b[43msort\u001b[49m\u001b[38;5;241;43m=\u001b[39;49m\u001b[38;5;28;43;01mFalse\u001b[39;49;00m\u001b[43m,\u001b[49m\n\u001b[0;32m    181\u001b[0m \u001b[43m\u001b[49m\u001b[43m)\u001b[49m\n\u001b[0;32m    182\u001b[0m d\u001b[38;5;241m.\u001b[39mcolumns \u001b[38;5;241m=\u001b[39m data\u001b[38;5;241m.\u001b[39mcolumns\u001b[38;5;241m.\u001b[39mcopy()\n\u001b[0;32m    183\u001b[0m \u001b[38;5;28;01mreturn\u001b[39;00m d\n",
      "File \u001b[1;32m~\\anaconda3\\lib\\site-packages\\pandas\\util\\_decorators.py:311\u001b[0m, in \u001b[0;36mdeprecate_nonkeyword_arguments.<locals>.decorate.<locals>.wrapper\u001b[1;34m(*args, **kwargs)\u001b[0m\n\u001b[0;32m    305\u001b[0m \u001b[38;5;28;01mif\u001b[39;00m \u001b[38;5;28mlen\u001b[39m(args) \u001b[38;5;241m>\u001b[39m num_allow_args:\n\u001b[0;32m    306\u001b[0m     warnings\u001b[38;5;241m.\u001b[39mwarn(\n\u001b[0;32m    307\u001b[0m         msg\u001b[38;5;241m.\u001b[39mformat(arguments\u001b[38;5;241m=\u001b[39marguments),\n\u001b[0;32m    308\u001b[0m         \u001b[38;5;167;01mFutureWarning\u001b[39;00m,\n\u001b[0;32m    309\u001b[0m         stacklevel\u001b[38;5;241m=\u001b[39mstacklevel,\n\u001b[0;32m    310\u001b[0m     )\n\u001b[1;32m--> 311\u001b[0m \u001b[38;5;28;01mreturn\u001b[39;00m func(\u001b[38;5;241m*\u001b[39margs, \u001b[38;5;241m*\u001b[39m\u001b[38;5;241m*\u001b[39mkwargs)\n",
      "File \u001b[1;32m~\\anaconda3\\lib\\site-packages\\pandas\\core\\reshape\\concat.py:347\u001b[0m, in \u001b[0;36mconcat\u001b[1;34m(objs, axis, join, ignore_index, keys, levels, names, verify_integrity, sort, copy)\u001b[0m\n\u001b[0;32m    143\u001b[0m \u001b[38;5;129m@deprecate_nonkeyword_arguments\u001b[39m(version\u001b[38;5;241m=\u001b[39m\u001b[38;5;28;01mNone\u001b[39;00m, allowed_args\u001b[38;5;241m=\u001b[39m[\u001b[38;5;124m\"\u001b[39m\u001b[38;5;124mobjs\u001b[39m\u001b[38;5;124m\"\u001b[39m])\n\u001b[0;32m    144\u001b[0m \u001b[38;5;28;01mdef\u001b[39;00m \u001b[38;5;21mconcat\u001b[39m(\n\u001b[0;32m    145\u001b[0m     objs: Iterable[NDFrame] \u001b[38;5;241m|\u001b[39m Mapping[Hashable, NDFrame],\n\u001b[1;32m   (...)\u001b[0m\n\u001b[0;32m    154\u001b[0m     copy: \u001b[38;5;28mbool\u001b[39m \u001b[38;5;241m=\u001b[39m \u001b[38;5;28;01mTrue\u001b[39;00m,\n\u001b[0;32m    155\u001b[0m ) \u001b[38;5;241m-\u001b[39m\u001b[38;5;241m>\u001b[39m DataFrame \u001b[38;5;241m|\u001b[39m Series:\n\u001b[0;32m    156\u001b[0m     \u001b[38;5;124;03m\"\"\"\u001b[39;00m\n\u001b[0;32m    157\u001b[0m \u001b[38;5;124;03m    Concatenate pandas objects along a particular axis with optional set logic\u001b[39;00m\n\u001b[0;32m    158\u001b[0m \u001b[38;5;124;03m    along the other axes.\u001b[39;00m\n\u001b[1;32m   (...)\u001b[0m\n\u001b[0;32m    345\u001b[0m \u001b[38;5;124;03m    ValueError: Indexes have overlapping values: ['a']\u001b[39;00m\n\u001b[0;32m    346\u001b[0m \u001b[38;5;124;03m    \"\"\"\u001b[39;00m\n\u001b[1;32m--> 347\u001b[0m     op \u001b[38;5;241m=\u001b[39m \u001b[43m_Concatenator\u001b[49m\u001b[43m(\u001b[49m\n\u001b[0;32m    348\u001b[0m \u001b[43m        \u001b[49m\u001b[43mobjs\u001b[49m\u001b[43m,\u001b[49m\n\u001b[0;32m    349\u001b[0m \u001b[43m        \u001b[49m\u001b[43maxis\u001b[49m\u001b[38;5;241;43m=\u001b[39;49m\u001b[43maxis\u001b[49m\u001b[43m,\u001b[49m\n\u001b[0;32m    350\u001b[0m \u001b[43m        \u001b[49m\u001b[43mignore_index\u001b[49m\u001b[38;5;241;43m=\u001b[39;49m\u001b[43mignore_index\u001b[49m\u001b[43m,\u001b[49m\n\u001b[0;32m    351\u001b[0m \u001b[43m        \u001b[49m\u001b[43mjoin\u001b[49m\u001b[38;5;241;43m=\u001b[39;49m\u001b[43mjoin\u001b[49m\u001b[43m,\u001b[49m\n\u001b[0;32m    352\u001b[0m \u001b[43m        \u001b[49m\u001b[43mkeys\u001b[49m\u001b[38;5;241;43m=\u001b[39;49m\u001b[43mkeys\u001b[49m\u001b[43m,\u001b[49m\n\u001b[0;32m    353\u001b[0m \u001b[43m        \u001b[49m\u001b[43mlevels\u001b[49m\u001b[38;5;241;43m=\u001b[39;49m\u001b[43mlevels\u001b[49m\u001b[43m,\u001b[49m\n\u001b[0;32m    354\u001b[0m \u001b[43m        \u001b[49m\u001b[43mnames\u001b[49m\u001b[38;5;241;43m=\u001b[39;49m\u001b[43mnames\u001b[49m\u001b[43m,\u001b[49m\n\u001b[0;32m    355\u001b[0m \u001b[43m        \u001b[49m\u001b[43mverify_integrity\u001b[49m\u001b[38;5;241;43m=\u001b[39;49m\u001b[43mverify_integrity\u001b[49m\u001b[43m,\u001b[49m\n\u001b[0;32m    356\u001b[0m \u001b[43m        \u001b[49m\u001b[43mcopy\u001b[49m\u001b[38;5;241;43m=\u001b[39;49m\u001b[43mcopy\u001b[49m\u001b[43m,\u001b[49m\n\u001b[0;32m    357\u001b[0m \u001b[43m        \u001b[49m\u001b[43msort\u001b[49m\u001b[38;5;241;43m=\u001b[39;49m\u001b[43msort\u001b[49m\u001b[43m,\u001b[49m\n\u001b[0;32m    358\u001b[0m \u001b[43m    \u001b[49m\u001b[43m)\u001b[49m\n\u001b[0;32m    360\u001b[0m     \u001b[38;5;28;01mreturn\u001b[39;00m op\u001b[38;5;241m.\u001b[39mget_result()\n",
      "File \u001b[1;32m~\\anaconda3\\lib\\site-packages\\pandas\\core\\reshape\\concat.py:404\u001b[0m, in \u001b[0;36m_Concatenator.__init__\u001b[1;34m(self, objs, axis, join, keys, levels, names, ignore_index, verify_integrity, copy, sort)\u001b[0m\n\u001b[0;32m    401\u001b[0m     objs \u001b[38;5;241m=\u001b[39m \u001b[38;5;28mlist\u001b[39m(objs)\n\u001b[0;32m    403\u001b[0m \u001b[38;5;28;01mif\u001b[39;00m \u001b[38;5;28mlen\u001b[39m(objs) \u001b[38;5;241m==\u001b[39m \u001b[38;5;241m0\u001b[39m:\n\u001b[1;32m--> 404\u001b[0m     \u001b[38;5;28;01mraise\u001b[39;00m \u001b[38;5;167;01mValueError\u001b[39;00m(\u001b[38;5;124m\"\u001b[39m\u001b[38;5;124mNo objects to concatenate\u001b[39m\u001b[38;5;124m\"\u001b[39m)\n\u001b[0;32m    406\u001b[0m \u001b[38;5;28;01mif\u001b[39;00m keys \u001b[38;5;129;01mis\u001b[39;00m \u001b[38;5;28;01mNone\u001b[39;00m:\n\u001b[0;32m    407\u001b[0m     objs \u001b[38;5;241m=\u001b[39m \u001b[38;5;28mlist\u001b[39m(com\u001b[38;5;241m.\u001b[39mnot_none(\u001b[38;5;241m*\u001b[39mobjs))\n",
      "\u001b[1;31mValueError\u001b[0m: No objects to concatenate"
     ]
    }
   ],
   "source": [
    "df2.describe(include=[np.number])"
   ]
  },
  {
   "cell_type": "code",
   "execution_count": 83,
   "id": "28d5d32d",
   "metadata": {},
   "outputs": [
    {
     "ename": "KeyError",
     "evalue": "'Column not found: ChipTimeinMinutes'",
     "output_type": "error",
     "traceback": [
      "\u001b[1;31m---------------------------------------------------------------------------\u001b[0m",
      "\u001b[1;31mKeyError\u001b[0m                                  Traceback (most recent call last)",
      "Input \u001b[1;32mIn [83]\u001b[0m, in \u001b[0;36m<cell line: 1>\u001b[1;34m()\u001b[0m\n\u001b[1;32m----> 1\u001b[0m \u001b[43mdf2\u001b[49m\u001b[38;5;241;43m.\u001b[39;49m\u001b[43mboxplot\u001b[49m\u001b[43m(\u001b[49m\u001b[43mcolumn\u001b[49m\u001b[38;5;241;43m=\u001b[39;49m\u001b[38;5;124;43m'\u001b[39;49m\u001b[38;5;124;43mChipTimeinMinutes\u001b[39;49m\u001b[38;5;124;43m'\u001b[39;49m\u001b[43m,\u001b[49m\u001b[43m \u001b[49m\u001b[43mby\u001b[49m\u001b[38;5;241;43m=\u001b[39;49m\u001b[38;5;124;43m'\u001b[39;49m\u001b[38;5;124;43mGender\u001b[39;49m\u001b[38;5;124;43m'\u001b[39;49m\u001b[43m)\u001b[49m\n\u001b[0;32m      2\u001b[0m plt\u001b[38;5;241m.\u001b[39mylabel(\u001b[38;5;124m'\u001b[39m\u001b[38;5;124mRun time\u001b[39m\u001b[38;5;124m'\u001b[39m)\n",
      "File \u001b[1;32m~\\anaconda3\\lib\\site-packages\\pandas\\plotting\\_core.py:511\u001b[0m, in \u001b[0;36mboxplot_frame\u001b[1;34m(self, column, by, ax, fontsize, rot, grid, figsize, layout, return_type, backend, **kwargs)\u001b[0m\n\u001b[0;32m    494\u001b[0m \u001b[38;5;129m@Substitution\u001b[39m(backend\u001b[38;5;241m=\u001b[39m_backend_doc)\n\u001b[0;32m    495\u001b[0m \u001b[38;5;129m@Appender\u001b[39m(_boxplot_doc)\n\u001b[0;32m    496\u001b[0m \u001b[38;5;28;01mdef\u001b[39;00m \u001b[38;5;21mboxplot_frame\u001b[39m(\n\u001b[1;32m   (...)\u001b[0m\n\u001b[0;32m    508\u001b[0m     \u001b[38;5;241m*\u001b[39m\u001b[38;5;241m*\u001b[39mkwargs,\n\u001b[0;32m    509\u001b[0m ):\n\u001b[0;32m    510\u001b[0m     plot_backend \u001b[38;5;241m=\u001b[39m _get_plot_backend(backend)\n\u001b[1;32m--> 511\u001b[0m     \u001b[38;5;28;01mreturn\u001b[39;00m plot_backend\u001b[38;5;241m.\u001b[39mboxplot_frame(\n\u001b[0;32m    512\u001b[0m         \u001b[38;5;28mself\u001b[39m,\n\u001b[0;32m    513\u001b[0m         column\u001b[38;5;241m=\u001b[39mcolumn,\n\u001b[0;32m    514\u001b[0m         by\u001b[38;5;241m=\u001b[39mby,\n\u001b[0;32m    515\u001b[0m         ax\u001b[38;5;241m=\u001b[39max,\n\u001b[0;32m    516\u001b[0m         fontsize\u001b[38;5;241m=\u001b[39mfontsize,\n\u001b[0;32m    517\u001b[0m         rot\u001b[38;5;241m=\u001b[39mrot,\n\u001b[0;32m    518\u001b[0m         grid\u001b[38;5;241m=\u001b[39mgrid,\n\u001b[0;32m    519\u001b[0m         figsize\u001b[38;5;241m=\u001b[39mfigsize,\n\u001b[0;32m    520\u001b[0m         layout\u001b[38;5;241m=\u001b[39mlayout,\n\u001b[0;32m    521\u001b[0m         return_type\u001b[38;5;241m=\u001b[39mreturn_type,\n\u001b[0;32m    522\u001b[0m         \u001b[38;5;241m*\u001b[39m\u001b[38;5;241m*\u001b[39mkwargs,\n\u001b[0;32m    523\u001b[0m     )\n",
      "File \u001b[1;32m~\\anaconda3\\lib\\site-packages\\pandas\\plotting\\_matplotlib\\boxplot.py:425\u001b[0m, in \u001b[0;36mboxplot_frame\u001b[1;34m(self, column, by, ax, fontsize, rot, grid, figsize, layout, return_type, **kwds)\u001b[0m\n\u001b[0;32m    410\u001b[0m \u001b[38;5;28;01mdef\u001b[39;00m \u001b[38;5;21mboxplot_frame\u001b[39m(\n\u001b[0;32m    411\u001b[0m     \u001b[38;5;28mself\u001b[39m,\n\u001b[0;32m    412\u001b[0m     column\u001b[38;5;241m=\u001b[39m\u001b[38;5;28;01mNone\u001b[39;00m,\n\u001b[1;32m   (...)\u001b[0m\n\u001b[0;32m    421\u001b[0m     \u001b[38;5;241m*\u001b[39m\u001b[38;5;241m*\u001b[39mkwds,\n\u001b[0;32m    422\u001b[0m ):\n\u001b[0;32m    423\u001b[0m     \u001b[38;5;28;01mimport\u001b[39;00m \u001b[38;5;21;01mmatplotlib\u001b[39;00m\u001b[38;5;21;01m.\u001b[39;00m\u001b[38;5;21;01mpyplot\u001b[39;00m \u001b[38;5;28;01mas\u001b[39;00m \u001b[38;5;21;01mplt\u001b[39;00m\n\u001b[1;32m--> 425\u001b[0m     ax \u001b[38;5;241m=\u001b[39m boxplot(\n\u001b[0;32m    426\u001b[0m         \u001b[38;5;28mself\u001b[39m,\n\u001b[0;32m    427\u001b[0m         column\u001b[38;5;241m=\u001b[39mcolumn,\n\u001b[0;32m    428\u001b[0m         by\u001b[38;5;241m=\u001b[39mby,\n\u001b[0;32m    429\u001b[0m         ax\u001b[38;5;241m=\u001b[39max,\n\u001b[0;32m    430\u001b[0m         fontsize\u001b[38;5;241m=\u001b[39mfontsize,\n\u001b[0;32m    431\u001b[0m         grid\u001b[38;5;241m=\u001b[39mgrid,\n\u001b[0;32m    432\u001b[0m         rot\u001b[38;5;241m=\u001b[39mrot,\n\u001b[0;32m    433\u001b[0m         figsize\u001b[38;5;241m=\u001b[39mfigsize,\n\u001b[0;32m    434\u001b[0m         layout\u001b[38;5;241m=\u001b[39mlayout,\n\u001b[0;32m    435\u001b[0m         return_type\u001b[38;5;241m=\u001b[39mreturn_type,\n\u001b[0;32m    436\u001b[0m         \u001b[38;5;241m*\u001b[39m\u001b[38;5;241m*\u001b[39mkwds,\n\u001b[0;32m    437\u001b[0m     )\n\u001b[0;32m    438\u001b[0m     plt\u001b[38;5;241m.\u001b[39mdraw_if_interactive()\n\u001b[0;32m    439\u001b[0m     \u001b[38;5;28;01mreturn\u001b[39;00m ax\n",
      "File \u001b[1;32m~\\anaconda3\\lib\\site-packages\\pandas\\plotting\\_matplotlib\\boxplot.py:372\u001b[0m, in \u001b[0;36mboxplot\u001b[1;34m(data, column, by, ax, fontsize, rot, grid, figsize, layout, return_type, **kwds)\u001b[0m\n\u001b[0;32m    367\u001b[0m         columns \u001b[38;5;241m=\u001b[39m [column]\n\u001b[0;32m    369\u001b[0m \u001b[38;5;28;01mif\u001b[39;00m by \u001b[38;5;129;01mis\u001b[39;00m \u001b[38;5;129;01mnot\u001b[39;00m \u001b[38;5;28;01mNone\u001b[39;00m:\n\u001b[0;32m    370\u001b[0m     \u001b[38;5;66;03m# Prefer array return type for 2-D plots to match the subplot layout\u001b[39;00m\n\u001b[0;32m    371\u001b[0m     \u001b[38;5;66;03m# https://github.com/pandas-dev/pandas/pull/12216#issuecomment-241175580\u001b[39;00m\n\u001b[1;32m--> 372\u001b[0m     result \u001b[38;5;241m=\u001b[39m \u001b[43m_grouped_plot_by_column\u001b[49m\u001b[43m(\u001b[49m\n\u001b[0;32m    373\u001b[0m \u001b[43m        \u001b[49m\u001b[43mplot_group\u001b[49m\u001b[43m,\u001b[49m\n\u001b[0;32m    374\u001b[0m \u001b[43m        \u001b[49m\u001b[43mdata\u001b[49m\u001b[43m,\u001b[49m\n\u001b[0;32m    375\u001b[0m \u001b[43m        \u001b[49m\u001b[43mcolumns\u001b[49m\u001b[38;5;241;43m=\u001b[39;49m\u001b[43mcolumns\u001b[49m\u001b[43m,\u001b[49m\n\u001b[0;32m    376\u001b[0m \u001b[43m        \u001b[49m\u001b[43mby\u001b[49m\u001b[38;5;241;43m=\u001b[39;49m\u001b[43mby\u001b[49m\u001b[43m,\u001b[49m\n\u001b[0;32m    377\u001b[0m \u001b[43m        \u001b[49m\u001b[43mgrid\u001b[49m\u001b[38;5;241;43m=\u001b[39;49m\u001b[43mgrid\u001b[49m\u001b[43m,\u001b[49m\n\u001b[0;32m    378\u001b[0m \u001b[43m        \u001b[49m\u001b[43mfigsize\u001b[49m\u001b[38;5;241;43m=\u001b[39;49m\u001b[43mfigsize\u001b[49m\u001b[43m,\u001b[49m\n\u001b[0;32m    379\u001b[0m \u001b[43m        \u001b[49m\u001b[43max\u001b[49m\u001b[38;5;241;43m=\u001b[39;49m\u001b[43max\u001b[49m\u001b[43m,\u001b[49m\n\u001b[0;32m    380\u001b[0m \u001b[43m        \u001b[49m\u001b[43mlayout\u001b[49m\u001b[38;5;241;43m=\u001b[39;49m\u001b[43mlayout\u001b[49m\u001b[43m,\u001b[49m\n\u001b[0;32m    381\u001b[0m \u001b[43m        \u001b[49m\u001b[43mreturn_type\u001b[49m\u001b[38;5;241;43m=\u001b[39;49m\u001b[43mreturn_type\u001b[49m\u001b[43m,\u001b[49m\n\u001b[0;32m    382\u001b[0m \u001b[43m    \u001b[49m\u001b[43m)\u001b[49m\n\u001b[0;32m    383\u001b[0m \u001b[38;5;28;01melse\u001b[39;00m:\n\u001b[0;32m    384\u001b[0m     \u001b[38;5;28;01mif\u001b[39;00m return_type \u001b[38;5;129;01mis\u001b[39;00m \u001b[38;5;28;01mNone\u001b[39;00m:\n",
      "File \u001b[1;32m~\\anaconda3\\lib\\site-packages\\pandas\\plotting\\_matplotlib\\boxplot.py:249\u001b[0m, in \u001b[0;36m_grouped_plot_by_column\u001b[1;34m(plotf, data, columns, by, numeric_only, grid, figsize, ax, layout, return_type, **kwargs)\u001b[0m\n\u001b[0;32m    247\u001b[0m \u001b[38;5;28;01mfor\u001b[39;00m i, col \u001b[38;5;129;01min\u001b[39;00m \u001b[38;5;28menumerate\u001b[39m(columns):\n\u001b[0;32m    248\u001b[0m     ax \u001b[38;5;241m=\u001b[39m _axes[i]\n\u001b[1;32m--> 249\u001b[0m     gp_col \u001b[38;5;241m=\u001b[39m \u001b[43mgrouped\u001b[49m\u001b[43m[\u001b[49m\u001b[43mcol\u001b[49m\u001b[43m]\u001b[49m\n\u001b[0;32m    250\u001b[0m     keys, values \u001b[38;5;241m=\u001b[39m \u001b[38;5;28mzip\u001b[39m(\u001b[38;5;241m*\u001b[39mgp_col)\n\u001b[0;32m    251\u001b[0m     re_plotf \u001b[38;5;241m=\u001b[39m plotf(keys, values, ax, \u001b[38;5;241m*\u001b[39m\u001b[38;5;241m*\u001b[39mkwargs)\n",
      "File \u001b[1;32m~\\anaconda3\\lib\\site-packages\\pandas\\core\\groupby\\generic.py:1338\u001b[0m, in \u001b[0;36mDataFrameGroupBy.__getitem__\u001b[1;34m(self, key)\u001b[0m\n\u001b[0;32m   1329\u001b[0m \u001b[38;5;28;01mif\u001b[39;00m \u001b[38;5;28misinstance\u001b[39m(key, \u001b[38;5;28mtuple\u001b[39m) \u001b[38;5;129;01mand\u001b[39;00m \u001b[38;5;28mlen\u001b[39m(key) \u001b[38;5;241m>\u001b[39m \u001b[38;5;241m1\u001b[39m:\n\u001b[0;32m   1330\u001b[0m     \u001b[38;5;66;03m# if len == 1, then it becomes a SeriesGroupBy and this is actually\u001b[39;00m\n\u001b[0;32m   1331\u001b[0m     \u001b[38;5;66;03m# valid syntax, so don't raise warning\u001b[39;00m\n\u001b[0;32m   1332\u001b[0m     warnings\u001b[38;5;241m.\u001b[39mwarn(\n\u001b[0;32m   1333\u001b[0m         \u001b[38;5;124m\"\u001b[39m\u001b[38;5;124mIndexing with multiple keys (implicitly converted to a tuple \u001b[39m\u001b[38;5;124m\"\u001b[39m\n\u001b[0;32m   1334\u001b[0m         \u001b[38;5;124m\"\u001b[39m\u001b[38;5;124mof keys) will be deprecated, use a list instead.\u001b[39m\u001b[38;5;124m\"\u001b[39m,\n\u001b[0;32m   1335\u001b[0m         \u001b[38;5;167;01mFutureWarning\u001b[39;00m,\n\u001b[0;32m   1336\u001b[0m         stacklevel\u001b[38;5;241m=\u001b[39mfind_stack_level(),\n\u001b[0;32m   1337\u001b[0m     )\n\u001b[1;32m-> 1338\u001b[0m \u001b[38;5;28;01mreturn\u001b[39;00m \u001b[38;5;28;43msuper\u001b[39;49m\u001b[43m(\u001b[49m\u001b[43m)\u001b[49m\u001b[38;5;241;43m.\u001b[39;49m\u001b[38;5;21;43m__getitem__\u001b[39;49m\u001b[43m(\u001b[49m\u001b[43mkey\u001b[49m\u001b[43m)\u001b[49m\n",
      "File \u001b[1;32m~\\anaconda3\\lib\\site-packages\\pandas\\core\\base.py:250\u001b[0m, in \u001b[0;36mSelectionMixin.__getitem__\u001b[1;34m(self, key)\u001b[0m\n\u001b[0;32m    248\u001b[0m \u001b[38;5;28;01melse\u001b[39;00m:\n\u001b[0;32m    249\u001b[0m     \u001b[38;5;28;01mif\u001b[39;00m key \u001b[38;5;129;01mnot\u001b[39;00m \u001b[38;5;129;01min\u001b[39;00m \u001b[38;5;28mself\u001b[39m\u001b[38;5;241m.\u001b[39mobj:\n\u001b[1;32m--> 250\u001b[0m         \u001b[38;5;28;01mraise\u001b[39;00m \u001b[38;5;167;01mKeyError\u001b[39;00m(\u001b[38;5;124mf\u001b[39m\u001b[38;5;124m\"\u001b[39m\u001b[38;5;124mColumn not found: \u001b[39m\u001b[38;5;132;01m{\u001b[39;00mkey\u001b[38;5;132;01m}\u001b[39;00m\u001b[38;5;124m\"\u001b[39m)\n\u001b[0;32m    251\u001b[0m     subset \u001b[38;5;241m=\u001b[39m \u001b[38;5;28mself\u001b[39m\u001b[38;5;241m.\u001b[39mobj[key]\n\u001b[0;32m    252\u001b[0m     ndim \u001b[38;5;241m=\u001b[39m subset\u001b[38;5;241m.\u001b[39mndim\n",
      "\u001b[1;31mKeyError\u001b[0m: 'Column not found: ChipTimeinMinutes'"
     ]
    },
    {
     "data": {
      "image/png": "[encoded data removed]",
      "text/plain": [
       "<Figure size 432x288 with 1 Axes>"
      ]
     },
     "metadata": {
      "needs_background": "light"
     },
     "output_type": "display_data"
    }
   ],
   "source": [
    "df2.boxplot(column='ChipTimeinMinutes', by='Gender')\n",
    "plt.ylabel('Run time')"
   ]
  },
  {
   "cell_type": "code",
   "execution_count": null,
   "id": "33f82f32",
   "metadata": {},
   "outputs": [],
   "source": [
    "df2['Age_i']=round(pd.to_numeric(df2['Age'], errors='coerce'))\n",
    "df2.dropna(how='any',inline=True)\n",
    "plt.scatter(df2['ChipTimeinMinutes'],df2['Age_i'])\n",
    "plt.show()"
   ]
  },
  {
   "cell_type": "code",
   "execution_count": null,
   "id": "2a510e06",
   "metadata": {},
   "outputs": [],
   "source": [
    "plt.scatter(df2['ChipTimeinMinutes'],df2['Age_i'])\n",
    "plt.show()"
   ]
  },
  {
   "cell_type": "code",
   "execution_count": null,
   "id": "32192d82",
   "metadata": {},
   "outputs": [],
   "source": []
  }
 ],
 "metadata": {
  "kernelspec": {
   "display_name": "Python 3 (ipykernel)",
   "language": "python",
   "name": "python3"
  },
  "language_info": {
   "codemirror_mode": {
    "name": "ipython",
    "version": 3
   },
   "file_extension": ".py",
   "mimetype": "text/x-python",
   "name": "python",
   "nbconvert_exporter": "python",
   "pygments_lexer": "ipython3",
   "version": "3.9.12"
  }
 },
 "nbformat": 4,
 "nbformat_minor": 5
}
